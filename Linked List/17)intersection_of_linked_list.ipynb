{
 "cells": [
  {
   "cell_type": "raw",
   "id": "7bf0b32c-cfdb-4a79-aecb-1481679bd971",
   "metadata": {},
   "source": [
    "INTERSECTION OF LINKED LIST"
   ]
  },
  {
   "cell_type": "code",
   "execution_count": 2,
   "id": "0cd794ce-78b6-4b83-8a0a-7571a8bea69b",
   "metadata": {},
   "outputs": [],
   "source": [
    "def getIntersectionNode(head):\n",
    "    t1 = headA\n",
    "    t2 = headB\n",
    "    while t1!=t2:\n",
    "        if t1 == None:\n",
    "            t1 = headB\n",
    "        else:\n",
    "            t1 = t1.next\n",
    "        if t2 == None:\n",
    "            t2 = headA\n",
    "        else:\n",
    "            t2 = t2.next\n",
    "    return t1"
   ]
  },
  {
   "cell_type": "code",
   "execution_count": null,
   "id": "44d15e57-e224-46a5-8586-2a3b14c959e1",
   "metadata": {},
   "outputs": [],
   "source": []
  }
 ],
 "metadata": {
  "kernelspec": {
   "display_name": "Python 3 (ipykernel)",
   "language": "python",
   "name": "python3"
  },
  "language_info": {
   "codemirror_mode": {
    "name": "ipython",
    "version": 3
   },
   "file_extension": ".py",
   "mimetype": "text/x-python",
   "name": "python",
   "nbconvert_exporter": "python",
   "pygments_lexer": "ipython3",
   "version": "3.11.5"
  }
 },
 "nbformat": 4,
 "nbformat_minor": 5
}
