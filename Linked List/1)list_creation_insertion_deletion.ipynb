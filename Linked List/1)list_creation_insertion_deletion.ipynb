{
 "cells": [
  {
   "cell_type": "raw",
   "id": "e0548cb7-70ba-48b4-acfa-a86448af5130",
   "metadata": {},
   "source": [
    "CREATE LINKED LIST"
   ]
  },
  {
   "cell_type": "code",
   "execution_count": 37,
   "id": "ad97984c-70d7-4258-ae4d-e097006bc503",
   "metadata": {},
   "outputs": [],
   "source": [
    "class Node:\n",
    "    def __init__(self,data):\n",
    "        self.data = data\n",
    "        self.next = None\n",
    "    @staticmethod\n",
    "    def createLinkedList(arr):\n",
    "        head = Node(0)\n",
    "        dummy = head\n",
    "        for i in arr:\n",
    "            dummy.next = Node(i)\n",
    "            dummy = dummy.next\n",
    "        return head.next"
   ]
  },
  {
   "cell_type": "code",
   "execution_count": 38,
   "id": "a423d7c5-623c-4a38-aef2-1fd0a72795a2",
   "metadata": {},
   "outputs": [],
   "source": [
    "linkedList = Node.createLinkedList([1,2,3,4,5])\n",
    "def printList(head):\n",
    "    dummy = head\n",
    "    while dummy:\n",
    "        print(dummy.data,end=\" \")\n",
    "        dummy = dummy.next"
   ]
  },
  {
   "cell_type": "raw",
   "id": "72a1916d-29dd-4ded-94a4-dcf36ec13417",
   "metadata": {},
   "source": [
    "INSERTION IN LINKED LIST - BEGINNING"
   ]
  },
  {
   "cell_type": "code",
   "execution_count": 39,
   "id": "7504ff98-f415-4cc0-923b-9063974a1ce0",
   "metadata": {},
   "outputs": [],
   "source": [
    "def insertAtBeginning(data, head):\n",
    "    node = Node(data)\n",
    "    node.next = head\n",
    "    return node"
   ]
  },
  {
   "cell_type": "code",
   "execution_count": 40,
   "id": "965acd6d-38bb-4f5c-8fef-87a79181cbc7",
   "metadata": {},
   "outputs": [
    {
     "name": "stdout",
     "output_type": "stream",
     "text": [
      "10 1 2 3 4 5 "
     ]
    }
   ],
   "source": [
    "head = insertAtBeginning(10, linkedList)\n",
    "printList(head)"
   ]
  },
  {
   "cell_type": "raw",
   "id": "9b14d809-1e43-417d-a045-2d7de2a7fca7",
   "metadata": {},
   "source": [
    "INSERTION IN LINKED LIST - END"
   ]
  },
  {
   "cell_type": "code",
   "execution_count": 41,
   "id": "8963277e-6a67-43bb-a7b2-4c9707183f46",
   "metadata": {},
   "outputs": [],
   "source": [
    "def insertAtEnd(data, head):\n",
    "    node = Node(data)\n",
    "    dummy = head\n",
    "    while dummy.next!=None:\n",
    "        dummy = dummy.next\n",
    "    dummy.next = node\n",
    "    return head"
   ]
  },
  {
   "cell_type": "code",
   "execution_count": 42,
   "id": "94911134-cf12-4c18-b826-b551d837d017",
   "metadata": {},
   "outputs": [
    {
     "name": "stdout",
     "output_type": "stream",
     "text": [
      "1 2 3 4 5 20 "
     ]
    }
   ],
   "source": [
    "head = insertAtEnd(20, linkedList)\n",
    "printList(head)"
   ]
  },
  {
   "cell_type": "raw",
   "id": "99065968-2bdf-431e-8def-2e84820f2149",
   "metadata": {},
   "source": [
    "INSERTION IN LINKED LIST - AT GIVEN POSITION"
   ]
  },
  {
   "cell_type": "code",
   "execution_count": 43,
   "id": "221d0b52-d21a-4f6e-b829-b6ac60347399",
   "metadata": {},
   "outputs": [],
   "source": [
    "def insertAtPosition(data, position, head):\n",
    "    node = Node(data)\n",
    "    dummy = head\n",
    "    count = 0\n",
    "    while count<=position:\n",
    "        print(count,position, dummy.data)\n",
    "        temp = dummy\n",
    "        dummy = dummy.next\n",
    "        count = count + 1\n",
    "    temp.next = node\n",
    "    node.next = dummy\n",
    "    return head"
   ]
  },
  {
   "cell_type": "code",
   "execution_count": 44,
   "id": "95140f7d-fdc5-4223-998f-667d8353d052",
   "metadata": {},
   "outputs": [
    {
     "name": "stdout",
     "output_type": "stream",
     "text": [
      "0 2 1\n",
      "1 2 2\n",
      "2 2 3\n",
      "1 2 3 40 4 5 20 "
     ]
    }
   ],
   "source": [
    "head = insertAtPosition(40, 2, linkedList)\n",
    "printList(head)"
   ]
  },
  {
   "cell_type": "raw",
   "id": "662d65e5-e86f-416b-bf39-9575a543a49c",
   "metadata": {},
   "source": [
    "DELETE LINKED LIST - BEGINNING"
   ]
  },
  {
   "cell_type": "code",
   "execution_count": 46,
   "id": "a30a4528-6243-45c0-8aaa-116e1ba12f94",
   "metadata": {},
   "outputs": [],
   "source": [
    "def deleteAtBeginnning(head):\n",
    "    head = head.next\n",
    "    return head"
   ]
  },
  {
   "cell_type": "code",
   "execution_count": 48,
   "id": "fedf63bb-54c4-4ca2-8221-d8a5b6d36363",
   "metadata": {},
   "outputs": [
    {
     "name": "stdout",
     "output_type": "stream",
     "text": [
      "2 3 40 4 5 20 "
     ]
    }
   ],
   "source": [
    "head = deleteAtBeginnning(linkedList)\n",
    "printList(head)"
   ]
  },
  {
   "cell_type": "raw",
   "id": "eeaeb76f-4ab1-4bcf-843d-3f17ce417854",
   "metadata": {},
   "source": [
    "DELETE LINKED LIST - END"
   ]
  },
  {
   "cell_type": "code",
   "execution_count": 55,
   "id": "8bb298c9-77df-491f-ae50-0de127c731a5",
   "metadata": {},
   "outputs": [],
   "source": [
    "def deleteAtEnd(head):\n",
    "    dummy = head\n",
    "    while dummy.next!=None:\n",
    "        temp = dummy\n",
    "        dummy = dummy.next\n",
    "    temp.next = None\n",
    "    return head"
   ]
  },
  {
   "cell_type": "code",
   "execution_count": 56,
   "id": "17d702c0-ce1e-4081-896f-becc9c3a0690",
   "metadata": {},
   "outputs": [
    {
     "name": "stdout",
     "output_type": "stream",
     "text": [
      "1 2 3 40 4 "
     ]
    }
   ],
   "source": [
    "head = deleteAtEnd(linkedList)\n",
    "printList(head)"
   ]
  },
  {
   "cell_type": "raw",
   "id": "660aeb81-7a29-4dde-82c8-47b04fe46595",
   "metadata": {},
   "source": [
    "DELETE LINKED LIST - AT GIVEN POSITION"
   ]
  },
  {
   "cell_type": "code",
   "execution_count": 59,
   "id": "80d6897d-da89-4956-b2f9-ccbb02fb1d34",
   "metadata": {},
   "outputs": [],
   "source": [
    "def deleteAtPosition(position, head):\n",
    "    dummy = head\n",
    "    count = 0\n",
    "    while count<position:\n",
    "        count = count + 1\n",
    "        temp = dummy\n",
    "        dummy = dummy.next\n",
    "    temp.next = dummy.next\n",
    "    return head"
   ]
  },
  {
   "cell_type": "code",
   "execution_count": 60,
   "id": "202bf753-3f3d-477f-a600-0611c47505d6",
   "metadata": {},
   "outputs": [
    {
     "name": "stdout",
     "output_type": "stream",
     "text": [
      "1 2 4 "
     ]
    }
   ],
   "source": [
    "head = deleteAtPosition(2, linkedList)\n",
    "printList(head)"
   ]
  },
  {
   "cell_type": "code",
   "execution_count": null,
   "id": "863a8ab8-777a-4560-a921-f7ab08a7bfe4",
   "metadata": {},
   "outputs": [],
   "source": []
  }
 ],
 "metadata": {
  "kernelspec": {
   "display_name": "Python 3 (ipykernel)",
   "language": "python",
   "name": "python3"
  },
  "language_info": {
   "codemirror_mode": {
    "name": "ipython",
    "version": 3
   },
   "file_extension": ".py",
   "mimetype": "text/x-python",
   "name": "python",
   "nbconvert_exporter": "python",
   "pygments_lexer": "ipython3",
   "version": "3.11.5"
  }
 },
 "nbformat": 4,
 "nbformat_minor": 5
}
