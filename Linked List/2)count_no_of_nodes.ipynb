{
 "cells": [
  {
   "cell_type": "raw",
   "id": "868dc507-c83b-4702-a7f4-f422416a2e86",
   "metadata": {},
   "source": [
    "COUNT NUMBER OF NODES"
   ]
  },
  {
   "cell_type": "code",
   "execution_count": 1,
   "id": "21aea7cd-e9c6-4b8b-90cf-727c74d8758d",
   "metadata": {},
   "outputs": [],
   "source": [
    "def countNumberOfNodes(head):\n",
    "    dummy = head\n",
    "    count = 0\n",
    "    while dummy:\n",
    "        count = count + 1\n",
    "        dummy = dummy.next\n",
    "    return count"
   ]
  },
  {
   "cell_type": "code",
   "execution_count": 3,
   "id": "d1a75492-92d0-4612-806f-b2096c5bf465",
   "metadata": {},
   "outputs": [],
   "source": [
    "class Node:\n",
    "    def __init__(self,data):\n",
    "        self.data = data\n",
    "        self.next = None\n",
    "    @staticmethod\n",
    "    def createLinkedList(arr):\n",
    "        head = Node(0)\n",
    "        dummy = head\n",
    "        for i in arr:\n",
    "            dummy.next = Node(i)\n",
    "            dummy = dummy.next\n",
    "        return head.next\n",
    "\n",
    "linkedList = Node.createLinkedList([1,2,3,4,5])"
   ]
  },
  {
   "cell_type": "code",
   "execution_count": 4,
   "id": "c5e38294-1a1b-4cd1-ac86-ca93cc31a190",
   "metadata": {},
   "outputs": [
    {
     "name": "stdout",
     "output_type": "stream",
     "text": [
      "5\n"
     ]
    }
   ],
   "source": [
    "print(countNumberOfNodes(linkedList))"
   ]
  },
  {
   "cell_type": "code",
   "execution_count": null,
   "id": "a2d8c281-ecaa-4317-87da-4b6ac4df8620",
   "metadata": {},
   "outputs": [],
   "source": []
  }
 ],
 "metadata": {
  "kernelspec": {
   "display_name": "Python 3 (ipykernel)",
   "language": "python",
   "name": "python3"
  },
  "language_info": {
   "codemirror_mode": {
    "name": "ipython",
    "version": 3
   },
   "file_extension": ".py",
   "mimetype": "text/x-python",
   "name": "python",
   "nbconvert_exporter": "python",
   "pygments_lexer": "ipython3",
   "version": "3.11.5"
  }
 },
 "nbformat": 4,
 "nbformat_minor": 5
}
