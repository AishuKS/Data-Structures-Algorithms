{
 "cells": [
  {
   "cell_type": "raw",
   "id": "af7416cd-95b6-4210-8466-deef9ca3794e",
   "metadata": {},
   "source": [
    "ODD EVEN LINKED LIST"
   ]
  },
  {
   "cell_type": "raw",
   "id": "e78e172d-9721-426b-9aaf-51f9476fbbbf",
   "metadata": {},
   "source": [
    "Given the head of a singly linked list, group all the nodes with odd indices together followed by the nodes with even indices, and return the reordered list.\n",
    "\n",
    "The first node is considered odd, and the second node is even, and so on.\n",
    "\n",
    "Input: head = [10,20,30,40,50]\n",
    "Output: [10,30,50,20,40]\n",
    "\n",
    "Input: head = [12,11,13,15,16,14,17]\n",
    "Output: [12,13,16,17,11,15,14]"
   ]
  },
  {
   "cell_type": "code",
   "execution_count": 3,
   "id": "ac5acce7-a2a7-48a0-8ff5-99e067e7f78c",
   "metadata": {},
   "outputs": [],
   "source": [
    "def oddEvenList(head):\n",
    "    if not head:\n",
    "        return None\n",
    "    \n",
    "    odd = head\n",
    "    even = head.next\n",
    "    even_start = even\n",
    "    while even and even.next:\n",
    "        odd.next = odd.next.next\n",
    "        even.next = even.next.next\n",
    "        odd = odd.next\n",
    "        even = even.next\n",
    "        \n",
    "    odd.next = even_start\n",
    "    return head"
   ]
  },
  {
   "cell_type": "code",
   "execution_count": null,
   "id": "278ba2ea-ff0a-4bb1-94de-fee96395f38c",
   "metadata": {},
   "outputs": [],
   "source": []
  }
 ],
 "metadata": {
  "kernelspec": {
   "display_name": "Python 3 (ipykernel)",
   "language": "python",
   "name": "python3"
  },
  "language_info": {
   "codemirror_mode": {
    "name": "ipython",
    "version": 3
   },
   "file_extension": ".py",
   "mimetype": "text/x-python",
   "name": "python",
   "nbconvert_exporter": "python",
   "pygments_lexer": "ipython3",
   "version": "3.11.5"
  }
 },
 "nbformat": 4,
 "nbformat_minor": 5
}
