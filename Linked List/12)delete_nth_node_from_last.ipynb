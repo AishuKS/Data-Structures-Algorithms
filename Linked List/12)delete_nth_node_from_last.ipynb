{
 "cells": [
  {
   "cell_type": "raw",
   "id": "e1176c93-897e-4d20-9a10-a2d504173483",
   "metadata": {},
   "source": [
    "DELETE NTH NODE FROM LAST"
   ]
  },
  {
   "cell_type": "code",
   "execution_count": 1,
   "id": "44c0e200-3a21-4913-8efc-d67516efaa30",
   "metadata": {},
   "outputs": [],
   "source": [
    "def removeNthFromLast(head):\n",
    "    slow = head\n",
    "    fast = head\n",
    "    for i in range(n):\n",
    "        fast = fast.next\n",
    "\n",
    "    if fast is None:\n",
    "        return head.next\n",
    "\n",
    "    while fast.next is not None:\n",
    "        slow = slow.next\n",
    "        fast = fast.next\n",
    "    \n",
    "    delNode = slow.next\n",
    "    slow.next = slow.next.next\n",
    "    delNode = None\n",
    "    return head"
   ]
  },
  {
   "cell_type": "code",
   "execution_count": null,
   "id": "159f6e65-cafb-4ce9-ac64-1f141e02572f",
   "metadata": {},
   "outputs": [],
   "source": []
  }
 ],
 "metadata": {
  "kernelspec": {
   "display_name": "Python 3 (ipykernel)",
   "language": "python",
   "name": "python3"
  },
  "language_info": {
   "codemirror_mode": {
    "name": "ipython",
    "version": 3
   },
   "file_extension": ".py",
   "mimetype": "text/x-python",
   "name": "python",
   "nbconvert_exporter": "python",
   "pygments_lexer": "ipython3",
   "version": "3.11.5"
  }
 },
 "nbformat": 4,
 "nbformat_minor": 5
}
