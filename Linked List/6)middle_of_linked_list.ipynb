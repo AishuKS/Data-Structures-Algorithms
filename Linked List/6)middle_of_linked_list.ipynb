{
 "cells": [
  {
   "cell_type": "raw",
   "id": "db8be3f8-9e9b-4ef8-a57d-46dd6631ece8",
   "metadata": {},
   "source": [
    "MIDDLE OF LINKED LIST"
   ]
  },
  {
   "cell_type": "code",
   "execution_count": 5,
   "id": "05958701-b4fe-4fe8-9ace-7b444c79b004",
   "metadata": {},
   "outputs": [],
   "source": [
    "def middleNode(head):\n",
    "    fast = head\n",
    "    slow = head\n",
    "    while fast!=None and fast.next!=None:\n",
    "        fast = fast.next.next\n",
    "        slow = slow.next\n",
    "    return slow.data"
   ]
  },
  {
   "cell_type": "code",
   "execution_count": 1,
   "id": "0555f7c6-f706-4187-9b31-acb3b4008bf6",
   "metadata": {},
   "outputs": [],
   "source": [
    "class Node:\n",
    "    def __init__(self,data):\n",
    "        self.data = data\n",
    "        self.next = None\n",
    "    @staticmethod\n",
    "    def createLinkedList(arr):\n",
    "        head = Node(0)\n",
    "        dummy = head\n",
    "        for i in arr:\n",
    "            dummy.next = Node(i)\n",
    "            dummy = dummy.next\n",
    "        return head.next\n",
    "def printList(head):\n",
    "    dummy = head\n",
    "    while dummy:\n",
    "        print(dummy.data,end=\" \")\n",
    "        dummy = dummy.next\n",
    "linkedList = Node.createLinkedList([1,2,3,4,5])"
   ]
  },
  {
   "cell_type": "code",
   "execution_count": 6,
   "id": "023a34e9-cb09-43df-ae30-265c2061a238",
   "metadata": {},
   "outputs": [
    {
     "name": "stdout",
     "output_type": "stream",
     "text": [
      "3\n"
     ]
    }
   ],
   "source": [
    "print(middleNode(linkedList))"
   ]
  }
 ],
 "metadata": {
  "kernelspec": {
   "display_name": "Python 3 (ipykernel)",
   "language": "python",
   "name": "python3"
  },
  "language_info": {
   "codemirror_mode": {
    "name": "ipython",
    "version": 3
   },
   "file_extension": ".py",
   "mimetype": "text/x-python",
   "name": "python",
   "nbconvert_exporter": "python",
   "pygments_lexer": "ipython3",
   "version": "3.11.5"
  }
 },
 "nbformat": 4,
 "nbformat_minor": 5
}
