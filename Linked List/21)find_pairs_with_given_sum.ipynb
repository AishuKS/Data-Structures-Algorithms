{
 "cells": [
  {
   "cell_type": "raw",
   "id": "891c7ece-8ee2-46a4-ab0e-45e10929454e",
   "metadata": {},
   "source": [
    "FIND PAIRS WITH GIVEN SUM\n",
    "\n",
    "Input:  1 <-> 2 <-> 4 <-> 5 <-> 6 <-> 8 <-> 9\n",
    "target = 7\n",
    "Output: (1, 6), (2,5)"
   ]
  },
  {
   "cell_type": "code",
   "execution_count": 1,
   "id": "1b367961-c511-4e81-9c13-93f5534ac17a",
   "metadata": {},
   "outputs": [],
   "source": [
    "def findPairs(target, head):\n",
    "        dummy = head\n",
    "        while dummy.next:\n",
    "            dummy = dummy.next\n",
    "        left = head\n",
    "        right = dummy\n",
    "        \n",
    "        output = []\n",
    "        while left.data<right.data:\n",
    "            value = left.data+right.data\n",
    "            if value == target:\n",
    "                output.append((left.data,right.data))\n",
    "                left = left.next\n",
    "                right = right.prev\n",
    "            \n",
    "            elif value>target:\n",
    "                right = right.prev\n",
    "            else:\n",
    "                left = left.next\n",
    "        return output"
   ]
  },
  {
   "cell_type": "code",
   "execution_count": null,
   "id": "53deaecf-a1fb-4e62-bf02-76c443561d6a",
   "metadata": {},
   "outputs": [],
   "source": []
  }
 ],
 "metadata": {
  "kernelspec": {
   "display_name": "Python 3 (ipykernel)",
   "language": "python",
   "name": "python3"
  },
  "language_info": {
   "codemirror_mode": {
    "name": "ipython",
    "version": 3
   },
   "file_extension": ".py",
   "mimetype": "text/x-python",
   "name": "python",
   "nbconvert_exporter": "python",
   "pygments_lexer": "ipython3",
   "version": "3.11.5"
  }
 },
 "nbformat": 4,
 "nbformat_minor": 5
}
