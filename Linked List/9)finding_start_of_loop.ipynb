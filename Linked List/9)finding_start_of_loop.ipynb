{
 "cells": [
  {
   "cell_type": "raw",
   "id": "d2ebaa78-cd26-4f76-834f-486c4f5711a8",
   "metadata": {},
   "source": [
    "FINDING THE STARTING POINT OF LOOP"
   ]
  },
  {
   "cell_type": "code",
   "execution_count": 2,
   "id": "a1c64d27-e624-4b64-95d4-6d76f8a59fd3",
   "metadata": {},
   "outputs": [],
   "source": [
    "def startingOfLoop(head):\n",
    "    slow = head\n",
    "    fast = head\n",
    "    while fast is not None and fast.next is not None:\n",
    "        fast = fast.next.next\n",
    "        slow = slow.next\n",
    "        if slow == fast:\n",
    "            slow = head\n",
    "            while slow!=fast:\n",
    "                slow = slow.next\n",
    "                fast = fast.next\n",
    "            return slow\n",
    "    return None"
   ]
  },
  {
   "cell_type": "code",
   "execution_count": 3,
   "id": "e83a3f45-7433-46fb-b79e-dde69893d399",
   "metadata": {},
   "outputs": [],
   "source": [
    "class Node:\n",
    "    def __init__(self,data):\n",
    "        self.data = data\n",
    "        self.next = None\n",
    "    @staticmethod\n",
    "    def createLinkedList(arr):\n",
    "        head = Node(0)\n",
    "        dummy = head\n",
    "        for i in arr:\n",
    "            dummy.next = Node(i)\n",
    "            dummy = dummy.next\n",
    "        return head.next\n",
    "def printList(head):\n",
    "    dummy = head\n",
    "    while dummy:\n",
    "        print(dummy.data,end=\" \")\n",
    "        dummy = dummy.next\n",
    "linkedList = Node.createLinkedList([1,2,3,4,5])"
   ]
  }
 ],
 "metadata": {
  "kernelspec": {
   "display_name": "Python 3 (ipykernel)",
   "language": "python",
   "name": "python3"
  },
  "language_info": {
   "codemirror_mode": {
    "name": "ipython",
    "version": 3
   },
   "file_extension": ".py",
   "mimetype": "text/x-python",
   "name": "python",
   "nbconvert_exporter": "python",
   "pygments_lexer": "ipython3",
   "version": "3.11.5"
  }
 },
 "nbformat": 4,
 "nbformat_minor": 5
}
