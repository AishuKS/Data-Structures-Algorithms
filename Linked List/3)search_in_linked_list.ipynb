{
 "cells": [
  {
   "cell_type": "raw",
   "id": "4865f7f8-89f4-4da2-b7a9-871724c58541",
   "metadata": {},
   "source": [
    "SEARCH IN LINKED LIST"
   ]
  },
  {
   "cell_type": "code",
   "execution_count": 1,
   "id": "82d3bc17-dfb6-4c08-b3af-85e84145632f",
   "metadata": {},
   "outputs": [],
   "source": [
    "class Node:\n",
    "    def __init__(self,data):\n",
    "        self.data = data\n",
    "        self.next = None\n",
    "    @staticmethod\n",
    "    def createLinkedList(arr):\n",
    "        head = Node(0)\n",
    "        dummy = head\n",
    "        for i in arr:\n",
    "            dummy.next = Node(i)\n",
    "            dummy = dummy.next\n",
    "        return head.next\n",
    "linkedList = Node.createLinkedList([1,2,3,4,5])"
   ]
  },
  {
   "cell_type": "code",
   "execution_count": 3,
   "id": "4214fb2d-6078-43fc-9d00-f7ab6ca155f5",
   "metadata": {},
   "outputs": [],
   "source": [
    "def searchNode(key, head):\n",
    "    dummy = head\n",
    "    while dummy:\n",
    "        if dummy.data == key:\n",
    "            return True\n",
    "        dummy = dummy.next\n",
    "    return False"
   ]
  },
  {
   "cell_type": "code",
   "execution_count": 4,
   "id": "81011f32-c996-4083-aabe-ef2e42d8dfbe",
   "metadata": {},
   "outputs": [
    {
     "name": "stdout",
     "output_type": "stream",
     "text": [
      "True\n"
     ]
    }
   ],
   "source": [
    "print(searchNode(3,linkedList))"
   ]
  },
  {
   "cell_type": "code",
   "execution_count": null,
   "id": "6e175b3f-3d74-4e22-b87e-98b049c32a8e",
   "metadata": {},
   "outputs": [],
   "source": []
  }
 ],
 "metadata": {
  "kernelspec": {
   "display_name": "Python 3 (ipykernel)",
   "language": "python",
   "name": "python3"
  },
  "language_info": {
   "codemirror_mode": {
    "name": "ipython",
    "version": 3
   },
   "file_extension": ".py",
   "mimetype": "text/x-python",
   "name": "python",
   "nbconvert_exporter": "python",
   "pygments_lexer": "ipython3",
   "version": "3.11.5"
  }
 },
 "nbformat": 4,
 "nbformat_minor": 5
}
