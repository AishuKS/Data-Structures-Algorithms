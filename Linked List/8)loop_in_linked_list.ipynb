{
 "cells": [
  {
   "cell_type": "raw",
   "id": "d6f14d4c-0627-435a-8743-072a494d8746",
   "metadata": {},
   "source": [
    "FINDING IF THE LOOP IS PRESENT IN LINKED LIST"
   ]
  },
  {
   "cell_type": "code",
   "execution_count": 1,
   "id": "51356072-1998-412e-b914-c0d08001f53b",
   "metadata": {},
   "outputs": [],
   "source": [
    "def findingLoop(head):\n",
    "    slow = head\n",
    "    fast = head\n",
    "    while fast is not None and fast.next is not None:\n",
    "        slow = slow.next\n",
    "        fast = fast.next.next\n",
    "        if slow == fast:\n",
    "            return True\n",
    "    return False"
   ]
  },
  {
   "cell_type": "code",
   "execution_count": 2,
   "id": "f23b57c2-5826-467d-92e9-72fd4ebd32c9",
   "metadata": {},
   "outputs": [],
   "source": [
    "class Node:\n",
    "    def __init__(self,data):\n",
    "        self.data = data\n",
    "        self.next = None\n",
    "    @staticmethod\n",
    "    def createLinkedList(arr):\n",
    "        head = Node(0)\n",
    "        dummy = head\n",
    "        for i in arr:\n",
    "            dummy.next = Node(i)\n",
    "            dummy = dummy.next\n",
    "        return head.next\n",
    "def printList(head):\n",
    "    dummy = head\n",
    "    while dummy:\n",
    "        print(dummy.data,end=\" \")\n",
    "        dummy = dummy.next\n",
    "linkedList = Node.createLinkedList([1,2,3,4,5])"
   ]
  }
 ],
 "metadata": {
  "kernelspec": {
   "display_name": "Python 3 (ipykernel)",
   "language": "python",
   "name": "python3"
  },
  "language_info": {
   "codemirror_mode": {
    "name": "ipython",
    "version": 3
   },
   "file_extension": ".py",
   "mimetype": "text/x-python",
   "name": "python",
   "nbconvert_exporter": "python",
   "pygments_lexer": "ipython3",
   "version": "3.11.5"
  }
 },
 "nbformat": 4,
 "nbformat_minor": 5
}
