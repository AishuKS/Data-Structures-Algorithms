{
 "cells": [
  {
   "cell_type": "raw",
   "id": "9c6d2860-545d-4e1d-8b11-8eecfb3db12d",
   "metadata": {},
   "source": [
    "DOUBLY LINKED LIST CREATION"
   ]
  },
  {
   "cell_type": "code",
   "execution_count": 1,
   "id": "5d272a5e-55e0-4b87-be6c-8cc6fc13de75",
   "metadata": {},
   "outputs": [],
   "source": [
    "class Node:\n",
    "    def __init__(self,data):\n",
    "        self.data = data\n",
    "        self.next = None\n",
    "        self.prev = None\n",
    "    @staticmethod\n",
    "    def createLinkedList(arr):\n",
    "        head = Node(0)\n",
    "        dummy = head\n",
    "        for i in arr:\n",
    "            dummy.next = Node(i)\n",
    "            temp = dummy\n",
    "            dummy = dummy.next\n",
    "            dummy.prev = temp\n",
    "        head = head.next\n",
    "        if head:\n",
    "            head.prev = None\n",
    "        return head"
   ]
  },
  {
   "cell_type": "code",
   "execution_count": 2,
   "id": "a8922eeb-d5bb-4c74-bc67-1e926b9e3492",
   "metadata": {},
   "outputs": [],
   "source": [
    "linkedList = Node.createLinkedList([1,2,3,4,5])\n",
    "# temp = linkedList\n",
    "def printList(head):\n",
    "    print(\"List from forwards\")\n",
    "    dummy = head\n",
    "    temp = None\n",
    "    while dummy:\n",
    "        print(dummy.data,end=\" \")\n",
    "        temp = dummy\n",
    "        dummy = dummy.next"
   ]
  },
  {
   "cell_type": "code",
   "execution_count": 3,
   "id": "c35bbc24-3685-4cbf-b629-bdde8ec4b1c5",
   "metadata": {},
   "outputs": [
    {
     "name": "stdout",
     "output_type": "stream",
     "text": [
      "List from forwards\n",
      "1 2 3 4 5 "
     ]
    }
   ],
   "source": [
    "printList(linkedList)"
   ]
  },
  {
   "cell_type": "raw",
   "id": "6828ead0-2710-48b2-a49a-dc6165f4055a",
   "metadata": {},
   "source": [
    "INSERTION AT BEGINNING"
   ]
  },
  {
   "cell_type": "code",
   "execution_count": 4,
   "id": "82449ba1-980e-4608-9e0b-c7e2537d8bda",
   "metadata": {},
   "outputs": [],
   "source": [
    "def insertAtBeginning(data, head):\n",
    "    node = Node(data)\n",
    "    node.next = head\n",
    "    head = node\n",
    "    return head"
   ]
  },
  {
   "cell_type": "code",
   "execution_count": 5,
   "id": "0bb30c1f-72b8-420b-9da7-d04efb742bd3",
   "metadata": {},
   "outputs": [
    {
     "name": "stdout",
     "output_type": "stream",
     "text": [
      "List from forwards\n",
      "0 1 2 3 4 5 "
     ]
    }
   ],
   "source": [
    "head = insertAtBeginning(0, linkedList)\n",
    "printList(head)"
   ]
  },
  {
   "cell_type": "raw",
   "id": "3ec2b90a-54a6-44a0-bc2c-5aabe7471a40",
   "metadata": {},
   "source": [
    "INSERTION AT END"
   ]
  },
  {
   "cell_type": "code",
   "execution_count": 6,
   "id": "6cd987d7-5c14-4f5d-936b-f222cd1cf6b3",
   "metadata": {},
   "outputs": [],
   "source": [
    "def insertAtEnd(data, head):\n",
    "    node = Node(data)\n",
    "    dummy = head\n",
    "    while dummy.next:\n",
    "        dummy = dummy.next\n",
    "    dummy.next = node\n",
    "    return head"
   ]
  },
  {
   "cell_type": "code",
   "execution_count": 7,
   "id": "65ea6801-22f0-4d37-bac2-8779d458576c",
   "metadata": {},
   "outputs": [
    {
     "name": "stdout",
     "output_type": "stream",
     "text": [
      "List from forwards\n",
      "1 2 3 4 5 6 "
     ]
    }
   ],
   "source": [
    "head = insertAtEnd(6, linkedList)\n",
    "printList(head)"
   ]
  },
  {
   "cell_type": "raw",
   "id": "03a23bd7-f18c-40f5-8b4d-dadb23ca444c",
   "metadata": {},
   "source": [
    "INSERTION AT GIVEN POSITION"
   ]
  },
  {
   "cell_type": "code",
   "execution_count": 8,
   "id": "a6e0e55c-7af6-4ce4-82e4-d8442ba4fd15",
   "metadata": {},
   "outputs": [],
   "source": [
    "def insertAtGivenPosition(data, position, head):\n",
    "    dummy =  head\n",
    "    count = 1\n",
    "    node = Node(data)\n",
    "    while count<position:\n",
    "        dummy = dummy.next\n",
    "        count = count+1\n",
    "    node.next = dummy.next\n",
    "    dummy.next = node\n",
    "    return head"
   ]
  },
  {
   "cell_type": "code",
   "execution_count": 9,
   "id": "06af1493-eb81-454e-8ba9-4b33aee3439c",
   "metadata": {},
   "outputs": [
    {
     "name": "stdout",
     "output_type": "stream",
     "text": [
      "List from forwards\n",
      "1 2 3 20 4 5 6 "
     ]
    }
   ],
   "source": [
    "head = insertAtGivenPosition(20, 3, linkedList)\n",
    "printList(head)"
   ]
  },
  {
   "cell_type": "raw",
   "id": "cb99b894-6181-4c52-93f9-e8770efe3227",
   "metadata": {},
   "source": [
    "DELETION AT BEGINNING"
   ]
  },
  {
   "cell_type": "code",
   "execution_count": 10,
   "id": "cf02dc0f-b475-40bc-a569-01adf32eddf6",
   "metadata": {},
   "outputs": [],
   "source": [
    "def deleteAtBeginning(head):\n",
    "    head = head.next\n",
    "    head.prev = None\n",
    "    return head"
   ]
  },
  {
   "cell_type": "code",
   "execution_count": 11,
   "id": "dcfe7b78-a4e5-4481-bab5-0c5bb3bb911e",
   "metadata": {},
   "outputs": [
    {
     "name": "stdout",
     "output_type": "stream",
     "text": [
      "List from forwards\n",
      "2 3 20 4 5 6 "
     ]
    }
   ],
   "source": [
    "head = deleteAtBeginning(linkedList)\n",
    "printList(head)"
   ]
  },
  {
   "cell_type": "raw",
   "id": "7a882629-fcd5-4dfa-857d-4307952b7bda",
   "metadata": {},
   "source": [
    "DELETION AT END"
   ]
  },
  {
   "cell_type": "code",
   "execution_count": 12,
   "id": "c7f14d8d-f271-4bd6-9531-69b9ccabed46",
   "metadata": {},
   "outputs": [],
   "source": [
    "def deleteAtEnd(head):\n",
    "    dummy = head\n",
    "    while dummy.next:\n",
    "        temp = dummy\n",
    "        dummy = dummy.next\n",
    "    temp.next = None\n",
    "    dummy.prev = None\n",
    "    return head"
   ]
  },
  {
   "cell_type": "code",
   "execution_count": 13,
   "id": "768e9741-e4c9-4e1f-9287-651ae84951ae",
   "metadata": {},
   "outputs": [
    {
     "name": "stdout",
     "output_type": "stream",
     "text": [
      "List from forwards\n",
      "1 2 3 20 4 5 "
     ]
    }
   ],
   "source": [
    "head = deleteAtEnd(linkedList)\n",
    "printList(head)"
   ]
  },
  {
   "cell_type": "raw",
   "id": "4251c37a-c15e-4900-80fa-bb339144be19",
   "metadata": {},
   "source": [
    "DELETE AT GIVEN POSITION"
   ]
  },
  {
   "cell_type": "code",
   "execution_count": 14,
   "id": "4dcf6efd-8447-4394-bc6e-4045bf6a4e8b",
   "metadata": {},
   "outputs": [],
   "source": [
    "def deleteAtPosition(position, head):\n",
    "    dummy = head\n",
    "    count = 0\n",
    "    while count<position:\n",
    "        count = count + 1\n",
    "        temp = dummy\n",
    "        dummy = dummy.next\n",
    "    temp.next = dummy.next\n",
    "    dummy.next.prev = None\n",
    "    return head"
   ]
  },
  {
   "cell_type": "code",
   "execution_count": 15,
   "id": "372db34b-a31b-4ebc-873a-7dcc3e13e8b9",
   "metadata": {},
   "outputs": [
    {
     "name": "stdout",
     "output_type": "stream",
     "text": [
      "List from forwards\n",
      "1 3 20 4 5 "
     ]
    }
   ],
   "source": [
    "head = deleteAtPosition(1, linkedList)\n",
    "printList(head)"
   ]
  }
 ],
 "metadata": {
  "kernelspec": {
   "display_name": "Python 3 (ipykernel)",
   "language": "python",
   "name": "python3"
  },
  "language_info": {
   "codemirror_mode": {
    "name": "ipython",
    "version": 3
   },
   "file_extension": ".py",
   "mimetype": "text/x-python",
   "name": "python",
   "nbconvert_exporter": "python",
   "pygments_lexer": "ipython3",
   "version": "3.11.5"
  }
 },
 "nbformat": 4,
 "nbformat_minor": 5
}
