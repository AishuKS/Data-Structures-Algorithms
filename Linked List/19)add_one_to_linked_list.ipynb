{
 "cells": [
  {
   "cell_type": "raw",
   "id": "1dfe8190-a127-4ab4-ae1b-93b30883d703",
   "metadata": {},
   "source": [
    "ADD ONE TO THE LINKED LIST\n",
    "\n",
    "Input: 3->4->5\n",
    "Output: 3->4->6"
   ]
  },
  {
   "cell_type": "code",
   "execution_count": 1,
   "id": "b23881b3-02d9-4b31-b79c-0eeb49ed06a9",
   "metadata": {},
   "outputs": [],
   "source": [
    "def addOne(self,head):\n",
    "        #reverse list\n",
    "        dummy = head\n",
    "        temp2 = None\n",
    "        while dummy:\n",
    "            temp = dummy\n",
    "            dummy = dummy.next\n",
    "            temp.next = temp2\n",
    "            temp2 = temp\n",
    "        \n",
    "        #add 1\n",
    "        dummy = temp\n",
    "        carry = 1\n",
    "        while dummy:\n",
    "            sum = dummy.data + carry\n",
    "            if sum>9:\n",
    "                sum = sum%10\n",
    "                carry = 1\n",
    "            else:\n",
    "                carry = 0\n",
    "            dummy.data = sum\n",
    "            \n",
    "            t = dummy\n",
    "            dummy = dummy.next\n",
    "        \n",
    "        if carry == 1:\n",
    "            node = Node(1)\n",
    "            t.next = node\n",
    "            \n",
    "        #reverse list\n",
    "        dummy = temp\n",
    "        temp2 = None\n",
    "        while dummy:\n",
    "            temp = dummy\n",
    "            dummy = dummy.next\n",
    "            temp.next = temp2\n",
    "            temp2 = temp\n",
    "        \n",
    "        return temp"
   ]
  },
  {
   "cell_type": "code",
   "execution_count": null,
   "id": "4dd7e3ca-cef3-4475-8bea-0094eb03ec8c",
   "metadata": {},
   "outputs": [],
   "source": []
  }
 ],
 "metadata": {
  "kernelspec": {
   "display_name": "Python 3 (ipykernel)",
   "language": "python",
   "name": "python3"
  },
  "language_info": {
   "codemirror_mode": {
    "name": "ipython",
    "version": 3
   },
   "file_extension": ".py",
   "mimetype": "text/x-python",
   "name": "python",
   "nbconvert_exporter": "python",
   "pygments_lexer": "ipython3",
   "version": "3.11.5"
  }
 },
 "nbformat": 4,
 "nbformat_minor": 5
}
