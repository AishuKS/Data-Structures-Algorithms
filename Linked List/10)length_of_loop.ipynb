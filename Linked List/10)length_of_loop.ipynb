{
 "cells": [
  {
   "cell_type": "raw",
   "id": "2901b75b-c953-4d0f-8fd8-bcb9ae9a9fc6",
   "metadata": {
    "vscode": {
     "languageId": "raw"
    }
   },
   "source": [
    "LENGTH OF LOOP"
   ]
  },
  {
   "cell_type": "code",
   "execution_count": 1,
   "id": "c214d27d-6056-45cc-8cbc-3719408459d2",
   "metadata": {},
   "outputs": [],
   "source": [
    "def lengthOfLoop(head):\n",
    "    slow = head\n",
    "    fast = head\n",
    "    count = 1\n",
    "    while fast and fast.next:\n",
    "        fast = fast.next.next\n",
    "        slow = slow.next\n",
    "        if slow == fast:\n",
    "            fast = fast.next\n",
    "            while slow!=fast:\n",
    "                count = count + 1\n",
    "                fast = fast.next\n",
    "            return count\n",
    "    return 0"
   ]
  },
  {
   "cell_type": "code",
   "execution_count": null,
   "id": "a67e5861-71e1-418a-9706-04ca818b0d8a",
   "metadata": {},
   "outputs": [],
   "source": []
  }
 ],
 "metadata": {
  "kernelspec": {
   "display_name": "Python 3 (ipykernel)",
   "language": "python",
   "name": "python3"
  },
  "language_info": {
   "codemirror_mode": {
    "name": "ipython",
    "version": 3
   },
   "file_extension": ".py",
   "mimetype": "text/x-python",
   "name": "python",
   "nbconvert_exporter": "python",
   "pygments_lexer": "ipython3",
   "version": "3.11.5"
  }
 },
 "nbformat": 4,
 "nbformat_minor": 5
}
