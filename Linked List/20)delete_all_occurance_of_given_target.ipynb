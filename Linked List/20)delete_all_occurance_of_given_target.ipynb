{
 "cells": [
  {
   "cell_type": "raw",
   "id": "0623b445-ddb3-49ff-a0f6-32858d1dd34f",
   "metadata": {},
   "source": [
    "DELETE ALL OCCURANCE OF GIVEN TARGET\n",
    "\n",
    "Input: 2<->2<->10<->8<->4<->2<->5<->2\n",
    "Target: 2\n",
    "Output: \n",
    "10<->8<->4<->5"
   ]
  },
  {
   "cell_type": "code",
   "execution_count": 1,
   "id": "71709746-fbfd-47a4-9e28-cfda611dff46",
   "metadata": {},
   "outputs": [],
   "source": [
    "def deleteAllOccurance(head, x):\n",
    "        # code here\n",
    "        # edit the linked list\n",
    "        \n",
    "        temp = Node(0)\n",
    "        head.prev = temp\n",
    "        temp.next = head\n",
    "        dummy = head\n",
    "        head = temp\n",
    "        while dummy:\n",
    "            if dummy.data == x:\n",
    "                temp.next = dummy.next\n",
    "                dummy.prev = None\n",
    "                if dummy.next:\n",
    "                    dummy.next.prev = temp\n",
    "                dummy = temp.next\n",
    "            else:\n",
    "                temp = dummy\n",
    "                dummy = dummy.next\n",
    "        return head.next"
   ]
  },
  {
   "cell_type": "code",
   "execution_count": null,
   "id": "ad3c9a47-f8d2-46a5-99b2-b3303f59e7a1",
   "metadata": {},
   "outputs": [],
   "source": []
  }
 ],
 "metadata": {
  "kernelspec": {
   "display_name": "Python 3 (ipykernel)",
   "language": "python",
   "name": "python3"
  },
  "language_info": {
   "codemirror_mode": {
    "name": "ipython",
    "version": 3
   },
   "file_extension": ".py",
   "mimetype": "text/x-python",
   "name": "python",
   "nbconvert_exporter": "python",
   "pygments_lexer": "ipython3",
   "version": "3.11.5"
  }
 },
 "nbformat": 4,
 "nbformat_minor": 5
}
