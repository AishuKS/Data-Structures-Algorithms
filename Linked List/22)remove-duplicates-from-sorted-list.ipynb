{
 "cells": [
  {
   "cell_type": "raw",
   "id": "83b38536-1a1f-47e3-b439-02bcc023d951",
   "metadata": {},
   "source": [
    "REMOVE DUPLICATED FROM SORTED LINKED LIST\n",
    "\n",
    "Input: 1<->1<->1<->2<->3<->4\n",
    "Output: 1<->2<->3<->4"
   ]
  },
  {
   "cell_type": "code",
   "execution_count": 1,
   "id": "196d48c4-edc3-4961-a2c9-835a4645a9a7",
   "metadata": {},
   "outputs": [],
   "source": [
    "def removeDuplicates(head):\n",
    "        temp = Node(0)\n",
    "        head.prev = temp\n",
    "        temp.next = head\n",
    "        dummy = head\n",
    "        head = temp\n",
    "        while dummy:\n",
    "            if temp.data == dummy.data:\n",
    "                temp.next = dummy.next\n",
    "                dummy.prev = None\n",
    "                if dummy.next:\n",
    "                    dummy.next.prev = temp\n",
    "                dummy.next = None\n",
    "                dummy = temp.next\n",
    "            \n",
    "            else:\n",
    "                temp = dummy\n",
    "                dummy = dummy.next\n",
    "        return head.next"
   ]
  },
  {
   "cell_type": "code",
   "execution_count": null,
   "id": "b3d4ca87-5f07-4b51-a9e3-e9c176522796",
   "metadata": {},
   "outputs": [],
   "source": []
  }
 ],
 "metadata": {
  "kernelspec": {
   "display_name": "Python 3 (ipykernel)",
   "language": "python",
   "name": "python3"
  },
  "language_info": {
   "codemirror_mode": {
    "name": "ipython",
    "version": 3
   },
   "file_extension": ".py",
   "mimetype": "text/x-python",
   "name": "python",
   "nbconvert_exporter": "python",
   "pygments_lexer": "ipython3",
   "version": "3.11.5"
  }
 },
 "nbformat": 4,
 "nbformat_minor": 5
}
