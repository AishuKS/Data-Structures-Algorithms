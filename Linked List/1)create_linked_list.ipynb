{
 "cells": [
  {
   "cell_type": "raw",
   "id": "65ccbbc1-9005-4399-8b71-6b2c69c84c66",
   "metadata": {},
   "source": [
    "CREATE LINKED LIST"
   ]
  },
  {
   "cell_type": "code",
   "execution_count": 11,
   "id": "ad97984c-70d7-4258-ae4d-e097006bc503",
   "metadata": {},
   "outputs": [],
   "source": [
    "class Node:\n",
    "    def __init__(self,data):\n",
    "        self.data = data\n",
    "        self.next = None\n",
    "    @staticmethod\n",
    "    def createLinkedList(arr):\n",
    "        head = Node(0)\n",
    "        dummy = head\n",
    "        for i in arr:\n",
    "            dummy.next = Node(i)\n",
    "            dummy = dummy.next\n",
    "        return head.next"
   ]
  },
  {
   "cell_type": "code",
   "execution_count": 12,
   "id": "a423d7c5-623c-4a38-aef2-1fd0a72795a2",
   "metadata": {},
   "outputs": [
    {
     "name": "stdout",
     "output_type": "stream",
     "text": [
      "1 2 3 4 5 "
     ]
    }
   ],
   "source": [
    "linkedList = Node.createLinkedList([1,2,3,4,5])\n",
    "\n",
    "while linkedList:\n",
    "    print(linkedList.data,end=\" \")\n",
    "    linkedList = linkedList.next"
   ]
  },
  {
   "cell_type": "code",
   "execution_count": null,
   "id": "0a6e2cb9-b6ff-4e5e-b7ba-fa47a4b70ee6",
   "metadata": {},
   "outputs": [],
   "source": []
  }
 ],
 "metadata": {
  "kernelspec": {
   "display_name": "Python 3 (ipykernel)",
   "language": "python",
   "name": "python3"
  },
  "language_info": {
   "codemirror_mode": {
    "name": "ipython",
    "version": 3
   },
   "file_extension": ".py",
   "mimetype": "text/x-python",
   "name": "python",
   "nbconvert_exporter": "python",
   "pygments_lexer": "ipython3",
   "version": "3.11.5"
  }
 },
 "nbformat": 4,
 "nbformat_minor": 5
}
