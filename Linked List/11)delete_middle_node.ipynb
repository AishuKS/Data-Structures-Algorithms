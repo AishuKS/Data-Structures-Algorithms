{
 "cells": [
  {
   "cell_type": "raw",
   "id": "86205ee8-2299-4b52-8a9c-7f8a19f1f5d2",
   "metadata": {},
   "source": [
    "DELETE MIDDLE OF THE LINKED LIST"
   ]
  },
  {
   "cell_type": "code",
   "execution_count": 1,
   "id": "7826ce45-11fd-430e-9642-e80b7c4bce17",
   "metadata": {},
   "outputs": [],
   "source": [
    "def deleteMiddleNode(head):\n",
    "    if not head or not head.next:\n",
    "        return None  # If the list is empty or has only one node, return None.\n",
    "    \n",
    "    slow = head\n",
    "    fast = head\n",
    "    prev = None\n",
    "    \n",
    "    while fast and fast.next:\n",
    "        prev = slow\n",
    "        slow = slow.next\n",
    "        fast = fast.next.next\n",
    "\n",
    "    # Delete the middle node\n",
    "    prev.next = slow.next\n",
    "\n",
    "    return head"
   ]
  },
  {
   "cell_type": "code",
   "execution_count": null,
   "id": "797d7d75-b6c5-4457-9bd8-5e1b1f2cc68e",
   "metadata": {},
   "outputs": [],
   "source": []
  }
 ],
 "metadata": {
  "kernelspec": {
   "display_name": "Python 3 (ipykernel)",
   "language": "python",
   "name": "python3"
  },
  "language_info": {
   "codemirror_mode": {
    "name": "ipython",
    "version": 3
   },
   "file_extension": ".py",
   "mimetype": "text/x-python",
   "name": "python",
   "nbconvert_exporter": "python",
   "pygments_lexer": "ipython3",
   "version": "3.11.5"
  }
 },
 "nbformat": 4,
 "nbformat_minor": 5
}
