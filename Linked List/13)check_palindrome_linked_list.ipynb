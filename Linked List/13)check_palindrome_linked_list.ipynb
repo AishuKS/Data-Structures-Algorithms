{
 "cells": [
  {
   "cell_type": "raw",
   "id": "e4762378-0534-417b-b809-d80ed1e65d99",
   "metadata": {},
   "source": [
    "CHECK FOR PALINDROME LINKED LIST"
   ]
  },
  {
   "cell_type": "code",
   "execution_count": 1,
   "id": "a2a764ec-f58b-41a2-b8af-724fb82184dc",
   "metadata": {},
   "outputs": [],
   "source": [
    "def isPalindrome(head):\n",
    "        slow = head\n",
    "        fast = head\n",
    "        p = head\n",
    "        #middle node\n",
    "        while fast!=None and fast.next!=None:\n",
    "            p = slow\n",
    "            slow = slow.next\n",
    "            fast = fast.next.next\n",
    "\n",
    "        #reverse from the middle node\n",
    "        d = None\n",
    "        t = slow\n",
    "        while t!=None:\n",
    "            n = t.next\n",
    "            t.next = d\n",
    "            d = t\n",
    "            t = n\n",
    "        slow = d\n",
    "\n",
    "        #checking for reverse\n",
    "        p = head\n",
    "        while p!=None and slow!=None:\n",
    "            if p.val!=slow.val:\n",
    "                return False\n",
    "            p = p.next\n",
    "            slow = slow.next\n",
    "\n",
    "        return True"
   ]
  },
  {
   "cell_type": "code",
   "execution_count": null,
   "id": "65f67074-2f52-4658-bb1f-dc75b3d7ddda",
   "metadata": {},
   "outputs": [],
   "source": []
  }
 ],
 "metadata": {
  "kernelspec": {
   "display_name": "Python 3 (ipykernel)",
   "language": "python",
   "name": "python3"
  },
  "language_info": {
   "codemirror_mode": {
    "name": "ipython",
    "version": 3
   },
   "file_extension": ".py",
   "mimetype": "text/x-python",
   "name": "python",
   "nbconvert_exporter": "python",
   "pygments_lexer": "ipython3",
   "version": "3.11.5"
  }
 },
 "nbformat": 4,
 "nbformat_minor": 5
}
