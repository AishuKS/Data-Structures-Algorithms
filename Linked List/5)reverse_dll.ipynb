{
 "cells": [
  {
   "cell_type": "raw",
   "id": "c8e27276-60b8-47f7-9c51-b9096f23f43e",
   "metadata": {},
   "source": [
    "REVERSE DOUBLY LINKED LIST"
   ]
  },
  {
   "cell_type": "code",
   "execution_count": 5,
   "id": "180da0df-5251-40fd-92e1-e656507329bf",
   "metadata": {},
   "outputs": [],
   "source": [
    "def reverseDLL(head):\n",
    "    #return head after reversing\n",
    "    dummy = head\n",
    "    count = 0\n",
    "    while dummy.next:\n",
    "        dummy = dummy.next\n",
    "        count = count + 1\n",
    "    \n",
    "    dummy2 = head\n",
    "    total = 0\n",
    "    count = count//2\n",
    "    while dummy2.next and total<=count:\n",
    "        \n",
    "        temp = dummy2.data\n",
    "        dummy2.data = dummy.data\n",
    "        dummy.data = temp\n",
    "        dummy = dummy.prev\n",
    "        dummy2 = dummy2.next\n",
    "        total = total+1\n",
    "    return head"
   ]
  },
  {
   "cell_type": "code",
   "execution_count": 3,
   "id": "1b97286f-72b8-4ecf-98ac-1af6f33bb2b1",
   "metadata": {},
   "outputs": [],
   "source": [
    "class Node:\n",
    "    def __init__(self,data):\n",
    "        self.data = data\n",
    "        self.next = None\n",
    "        self.prev = None\n",
    "    @staticmethod\n",
    "    def createLinkedList(arr):\n",
    "        head = Node(0)\n",
    "        dummy = head\n",
    "        for i in arr:\n",
    "            dummy.next = Node(i)\n",
    "            temp = dummy\n",
    "            dummy = dummy.next\n",
    "            dummy.prev = temp\n",
    "        head = head.next\n",
    "        if head:\n",
    "            head.prev = None\n",
    "        return head\n",
    "        \n",
    "linkedList = Node.createLinkedList([1,2,3,4,5])\n",
    "# temp = linkedList\n",
    "def printList(head):\n",
    "    print(\"List from forwards\")\n",
    "    dummy = head\n",
    "    temp = None\n",
    "    while dummy:\n",
    "        print(dummy.data,end=\" \")\n",
    "        temp = dummy\n",
    "        dummy = dummy.next"
   ]
  },
  {
   "cell_type": "code",
   "execution_count": 6,
   "id": "8a4e3cf9-f431-4be7-8dd1-7f70741d5604",
   "metadata": {},
   "outputs": [
    {
     "name": "stdout",
     "output_type": "stream",
     "text": [
      "List from forwards\n",
      "5 4 3 2 1 "
     ]
    }
   ],
   "source": [
    "head = reverseDLL(linkedList)\n",
    "printList(head)"
   ]
  }
 ],
 "metadata": {
  "kernelspec": {
   "display_name": "Python 3 (ipykernel)",
   "language": "python",
   "name": "python3"
  },
  "language_info": {
   "codemirror_mode": {
    "name": "ipython",
    "version": 3
   },
   "file_extension": ".py",
   "mimetype": "text/x-python",
   "name": "python",
   "nbconvert_exporter": "python",
   "pygments_lexer": "ipython3",
   "version": "3.11.5"
  }
 },
 "nbformat": 4,
 "nbformat_minor": 5
}
