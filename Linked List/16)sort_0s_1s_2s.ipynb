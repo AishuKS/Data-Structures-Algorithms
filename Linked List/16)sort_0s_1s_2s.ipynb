{
 "cells": [
  {
   "cell_type": "raw",
   "id": "f14079fc-e281-4fb1-b954-2ce96cc18fd9",
   "metadata": {},
   "source": [
    "SORT 0's 1's 2's\n",
    "Input: [0,1,0,1,2]\n",
    "Output: [0,0,1,1,2]"
   ]
  },
  {
   "cell_type": "code",
   "execution_count": 1,
   "id": "880eb109-ae4f-4e0f-b868-7d208cd72c7b",
   "metadata": {},
   "outputs": [],
   "source": [
    "def segregate(self, head):\n",
    "    if not head:\n",
    "        return head\n",
    "    zero = z1 = Node(-1)\n",
    "    one = o1 = Node(-1)\n",
    "    two = t1 = Node(-1)\n",
    "    dummy = head\n",
    "    while dummy:\n",
    "        if dummy.data == 0:\n",
    "            zero.next = dummy\n",
    "            zero = zero.next\n",
    "        elif dummy.data == 1:\n",
    "            one.next = dummy\n",
    "            one = one.next\n",
    "        else:\n",
    "            two.next = dummy\n",
    "            two = two.next\n",
    "        dummy = dummy.next\n",
    "    if o1.next:\n",
    "        zero.next = o1.next\n",
    "    else:\n",
    "        zero.next = t1.next\n",
    "    one.next = t1.next\n",
    "    two.next = None\n",
    "    return z1.next if z1.next else o1.next if o1.next else t1.next\n",
    "    "
   ]
  },
  {
   "cell_type": "code",
   "execution_count": null,
   "id": "ffa9df56-4c71-4829-b348-9f6c023a9b68",
   "metadata": {},
   "outputs": [],
   "source": []
  }
 ],
 "metadata": {
  "kernelspec": {
   "display_name": "Python 3 (ipykernel)",
   "language": "python",
   "name": "python3"
  },
  "language_info": {
   "codemirror_mode": {
    "name": "ipython",
    "version": 3
   },
   "file_extension": ".py",
   "mimetype": "text/x-python",
   "name": "python",
   "nbconvert_exporter": "python",
   "pygments_lexer": "ipython3",
   "version": "3.11.5"
  }
 },
 "nbformat": 4,
 "nbformat_minor": 5
}
