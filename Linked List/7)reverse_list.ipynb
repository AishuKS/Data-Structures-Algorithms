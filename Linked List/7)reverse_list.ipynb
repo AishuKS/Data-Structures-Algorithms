{
 "cells": [
  {
   "cell_type": "raw",
   "id": "44d471de-14cd-4178-9478-f08f41b6579e",
   "metadata": {},
   "source": [
    "REVERSE LIST\n",
    "Method 1: Iterative\n",
    "Method 2: Recursive"
   ]
  },
  {
   "cell_type": "code",
   "execution_count": 13,
   "id": "abd4d71d-b236-4724-a20f-059a81bb4b2e",
   "metadata": {},
   "outputs": [],
   "source": [
    "def reverseIterative(head):\n",
    "    dummy = head\n",
    "    temp1 = None\n",
    "    while dummy!=None:\n",
    "        temp2 = dummy.next\n",
    "        dummy.next = temp1\n",
    "        temp1 = dummy\n",
    "        dummy = temp2\n",
    "    return temp1"
   ]
  },
  {
   "cell_type": "markdown",
   "id": "25ae4e39",
   "metadata": {},
   "source": [
    "REVERSE RECURSIVE"
   ]
  },
  {
   "cell_type": "code",
   "execution_count": 19,
   "id": "c3b4630b",
   "metadata": {},
   "outputs": [],
   "source": [
    "def smallerLinkedList(head):\n",
    "    if head is None or head.next is None:\n",
    "        return head\n",
    "    next_head = smallerLinkedList(head.next)\n",
    "    front = head.next\n",
    "    front.next = head\n",
    "    head.next = None\n",
    "    return next_head\n",
    "def reverseRecursive(head):\n",
    "    return smallerLinkedList(head)"
   ]
  },
  {
   "cell_type": "code",
   "execution_count": 18,
   "id": "08ffa1d4-2f6a-429e-a4a2-637990033b5a",
   "metadata": {},
   "outputs": [],
   "source": [
    "class Node:\n",
    "    def __init__(self,data):\n",
    "        self.data = data\n",
    "        self.next = None\n",
    "    @staticmethod\n",
    "    def createLinkedList(arr):\n",
    "        head = Node(0)\n",
    "        dummy = head\n",
    "        for i in arr:\n",
    "            dummy.next = Node(i)\n",
    "            dummy = dummy.next\n",
    "        return head.next\n",
    "def printList(head):\n",
    "    dummy = head\n",
    "    while dummy:\n",
    "        print(dummy.data,end=\" \")\n",
    "        dummy = dummy.next\n",
    "linkedList = Node.createLinkedList([1,2,3,4,5])"
   ]
  },
  {
   "cell_type": "code",
   "execution_count": 15,
   "id": "680a3ccf-f81d-43e7-a3c5-49b20285f4a5",
   "metadata": {},
   "outputs": [
    {
     "name": "stdout",
     "output_type": "stream",
     "text": [
      "5 4 3 2 1 "
     ]
    }
   ],
   "source": [
    "head = reverseIterative(linkedList)\n",
    "printList(head)"
   ]
  },
  {
   "cell_type": "code",
   "execution_count": 20,
   "id": "6f6ecf60",
   "metadata": {},
   "outputs": [
    {
     "name": "stdout",
     "output_type": "stream",
     "text": [
      "5 4 3 2 1 "
     ]
    }
   ],
   "source": [
    "head = reverseRecursive(linkedList)\n",
    "printList(head)"
   ]
  },
  {
   "cell_type": "code",
   "execution_count": null,
   "id": "7f937680-c5f7-49cd-a893-60c4b584310a",
   "metadata": {},
   "outputs": [],
   "source": []
  }
 ],
 "metadata": {
  "kernelspec": {
   "display_name": "Python 3 (ipykernel)",
   "language": "python",
   "name": "python3"
  },
  "language_info": {
   "codemirror_mode": {
    "name": "ipython",
    "version": 3
   },
   "file_extension": ".py",
   "mimetype": "text/x-python",
   "name": "python",
   "nbconvert_exporter": "python",
   "pygments_lexer": "ipython3",
   "version": "3.11.5"
  }
 },
 "nbformat": 4,
 "nbformat_minor": 5
}
