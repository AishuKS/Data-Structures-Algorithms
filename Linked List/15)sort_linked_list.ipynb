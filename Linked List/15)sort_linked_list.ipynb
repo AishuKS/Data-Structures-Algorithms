{
 "cells": [
  {
   "cell_type": "raw",
   "id": "a0202566-424a-4157-bd13-abe2a587a93e",
   "metadata": {},
   "source": [
    "SORT LINKED LIST\n",
    "Input: [4,8,9,2]\n",
    "Output: [2,4,8,9]"
   ]
  },
  {
   "cell_type": "code",
   "execution_count": 1,
   "id": "9cdd1111-e992-4919-9977-ca2696171870",
   "metadata": {},
   "outputs": [],
   "source": [
    "def mergeList(left, right):\n",
    "        tail = ListNode()\n",
    "        dummy = tail\n",
    "        while left and right:\n",
    "            if left.val<right.val:\n",
    "                tail.next = left\n",
    "                left = left.next\n",
    "            else:\n",
    "                tail.next = right\n",
    "                right = right.next\n",
    "            tail = tail.next\n",
    "        if left:\n",
    "            tail.next = left\n",
    "        if right:\n",
    "            tail.next = right\n",
    "        return dummy.next\n",
    "def sortList(head):\n",
    "    if not head or not head.next:\n",
    "        return head\n",
    "    temp = head\n",
    "    slow = head\n",
    "    fast = head\n",
    "    while fast!=None and fast.next!=None:\n",
    "        temp = slow\n",
    "        slow = slow.next\n",
    "        fast = fast.next.next\n",
    "    temp.next = None\n",
    "    left_list = sortList(head)\n",
    "    right_list = sortList(slow)\n",
    "    return mergeList(left_list, right_list)"
   ]
  },
  {
   "cell_type": "code",
   "execution_count": null,
   "id": "5c6fbf75-e7f7-4f38-9544-cccf87877a0e",
   "metadata": {},
   "outputs": [],
   "source": []
  }
 ],
 "metadata": {
  "kernelspec": {
   "display_name": "Python 3 (ipykernel)",
   "language": "python",
   "name": "python3"
  },
  "language_info": {
   "codemirror_mode": {
    "name": "ipython",
    "version": 3
   },
   "file_extension": ".py",
   "mimetype": "text/x-python",
   "name": "python",
   "nbconvert_exporter": "python",
   "pygments_lexer": "ipython3",
   "version": "3.11.5"
  }
 },
 "nbformat": 4,
 "nbformat_minor": 5
}
