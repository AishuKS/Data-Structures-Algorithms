{
 "cells": [
  {
   "cell_type": "raw",
   "id": "bde74af3-973e-42b6-835e-f05cf1a6eee0",
   "metadata": {},
   "source": [
    "ADD TWO NUMBERS\n",
    "\n",
    "Input: 2->1->3\n",
    "       4->9->1\n",
    "Output: 6->0->5"
   ]
  },
  {
   "cell_type": "code",
   "execution_count": 1,
   "id": "02b03198-da09-4e9a-9ed4-01b1c7f6a208",
   "metadata": {},
   "outputs": [],
   "source": [
    "def addTwoList(l1, l2):\n",
    "        new_node = ListNode(0)\n",
    "        d1 = l1\n",
    "        d2 = l2\n",
    "        dummy = new_node\n",
    "        carry = 0\n",
    "        while d1 and d2:\n",
    "            sum = d1.val + d2.val + carry\n",
    "            if sum>9:\n",
    "                carry = 1\n",
    "                sum = sum%10\n",
    "            else:\n",
    "                carry = 0\n",
    "            dummy.next = ListNode(sum)\n",
    "            dummy = dummy.next\n",
    "\n",
    "            d1 = d1.next\n",
    "            d2 = d2.next\n",
    "        \n",
    "        while d1:\n",
    "            sum = d1.val + carry\n",
    "            if sum>9:\n",
    "                carry = 1\n",
    "                sum = sum%10\n",
    "            else:\n",
    "                carry = 0\n",
    "            dummy.next = ListNode(sum)\n",
    "            dummy = dummy.next\n",
    "            d1 = d1.next\n",
    "        \n",
    "        while d2:\n",
    "            sum = d2.val + carry\n",
    "            if sum>9:\n",
    "                carry = 1\n",
    "                sum = sum%10\n",
    "            else:\n",
    "                carry = 0\n",
    "            dummy.next = ListNode(sum)\n",
    "            dummy = dummy.next\n",
    "            d2 = d2.next\n",
    "\n",
    "        if carry == 1:\n",
    "            node = ListNode(1)\n",
    "            dummy.next = node\n",
    "\n",
    "        return new_node.next"
   ]
  },
  {
   "cell_type": "code",
   "execution_count": null,
   "id": "f6bf3289-c714-44c2-adbe-c2f6cd48ec06",
   "metadata": {},
   "outputs": [],
   "source": []
  }
 ],
 "metadata": {
  "kernelspec": {
   "display_name": "Python 3 (ipykernel)",
   "language": "python",
   "name": "python3"
  },
  "language_info": {
   "codemirror_mode": {
    "name": "ipython",
    "version": 3
   },
   "file_extension": ".py",
   "mimetype": "text/x-python",
   "name": "python",
   "nbconvert_exporter": "python",
   "pygments_lexer": "ipython3",
   "version": "3.11.5"
  }
 },
 "nbformat": 4,
 "nbformat_minor": 5
}
