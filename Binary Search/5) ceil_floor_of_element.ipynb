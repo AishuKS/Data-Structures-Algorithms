{
 "cells": [
  {
   "cell_type": "raw",
   "id": "311df12a-6a63-4222-b8f6-cd855c191a55",
   "metadata": {},
   "source": [
    "CEIL AND FLOOR OF A NUMBER\n",
    "Input:\n",
    "nums = [1,2,2,3,5]\n",
    "target = 3\n",
    "Output: 3 3 (the ceil and floor of 3 is 3 itself)\n",
    "\n",
    "Input:\n",
    "nums = [1,2,2,3,5]\n",
    "target = 4\n",
    "Output: 3 5 (the floor of 4 is 3 and ceil of 4 is 5)"
   ]
  },
  {
   "cell_type": "code",
   "execution_count": 1,
   "id": "0f344aa9-1072-4a1c-9c0e-632ef291e3be",
   "metadata": {},
   "outputs": [],
   "source": [
    "def ceilAndFloor(nums,target):\n",
    "    low = 0\n",
    "    high = len(nums) - 1\n",
    "    small = -1\n",
    "    large = -1\n",
    "    while low<=high:\n",
    "        mid = (low+high) // 2\n",
    "        if nums[mid] == target:\n",
    "            return [mid,mid]\n",
    "        elif nums[mid]<target:\n",
    "            low = mid + 1\n",
    "            small = mid\n",
    "        else:\n",
    "            high = mid - 1\n",
    "            large = mid\n",
    "    if small != -1:\n",
    "        small = nums[small]\n",
    "    if large!= - 1:\n",
    "        large = nums[large]\n",
    "    return [small,large]"
   ]
  },
  {
   "cell_type": "code",
   "execution_count": 2,
   "id": "9f37cbc2-2828-4f80-ad34-d4d01b2865f5",
   "metadata": {},
   "outputs": [
    {
     "data": {
      "text/plain": [
       "[3, 5]"
      ]
     },
     "execution_count": 2,
     "metadata": {},
     "output_type": "execute_result"
    }
   ],
   "source": [
    "ceilAndFloor([1,2,2,3,5],4)"
   ]
  },
  {
   "cell_type": "code",
   "execution_count": 3,
   "id": "2c048b18-031b-4f54-9a20-490183cadb63",
   "metadata": {},
   "outputs": [
    {
     "data": {
      "text/plain": [
       "[5, -1]"
      ]
     },
     "execution_count": 3,
     "metadata": {},
     "output_type": "execute_result"
    }
   ],
   "source": [
    "ceilAndFloor([1,2,2,3,5],7)"
   ]
  },
  {
   "cell_type": "code",
   "execution_count": null,
   "id": "55183439-862d-4403-b66d-300ca6a601fc",
   "metadata": {},
   "outputs": [],
   "source": []
  }
 ],
 "metadata": {
  "kernelspec": {
   "display_name": "Python 3 (ipykernel)",
   "language": "python",
   "name": "python3"
  },
  "language_info": {
   "codemirror_mode": {
    "name": "ipython",
    "version": 3
   },
   "file_extension": ".py",
   "mimetype": "text/x-python",
   "name": "python",
   "nbconvert_exporter": "python",
   "pygments_lexer": "ipython3",
   "version": "3.11.5"
  }
 },
 "nbformat": 4,
 "nbformat_minor": 5
}
