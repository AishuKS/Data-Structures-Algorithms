{
 "cells": [
  {
   "cell_type": "raw",
   "id": "b2c2747f-1ec9-47a1-b21f-ebd905087252",
   "metadata": {},
   "source": [
    "FINDING UPPER BOUND ELEMENT\n",
    "Input: [1,2,2,3,4,5]\n",
    "Target: 2\n",
    "Output: 2\n",
    "the next number higher than 2  is 3\n",
    "\n",
    "Input: [1,2,2,3,4,5]\n",
    "Target: 7\n",
    "Output: 6\n",
    "since 7 is not there it returns the number of elements in the array"
   ]
  },
  {
   "cell_type": "code",
   "execution_count": 21,
   "id": "86b62f2a-f954-45db-a709-0b285479d794",
   "metadata": {},
   "outputs": [],
   "source": [
    "def upperBound(nums,target):\n",
    "    low = 0\n",
    "    high = len(nums) - 1\n",
    "    ans = len(nums)\n",
    "    while low<=high:\n",
    "        mid = (low+high)//2\n",
    "        if nums[mid]>target:\n",
    "            ans = mid\n",
    "            high = mid - 1\n",
    "        else:\n",
    "            low = mid + 1\n",
    "    return ans"
   ]
  },
  {
   "cell_type": "code",
   "execution_count": 22,
   "id": "9712df54-93ba-4122-bc24-75c7c2de3d70",
   "metadata": {},
   "outputs": [
    {
     "data": {
      "text/plain": [
       "3"
      ]
     },
     "execution_count": 22,
     "metadata": {},
     "output_type": "execute_result"
    }
   ],
   "source": [
    "upperBound([1,2,2,3,4,5],2)"
   ]
  }
 ],
 "metadata": {
  "kernelspec": {
   "display_name": "Python 3 (ipykernel)",
   "language": "python",
   "name": "python3"
  },
  "language_info": {
   "codemirror_mode": {
    "name": "ipython",
    "version": 3
   },
   "file_extension": ".py",
   "mimetype": "text/x-python",
   "name": "python",
   "nbconvert_exporter": "python",
   "pygments_lexer": "ipython3",
   "version": "3.11.5"
  }
 },
 "nbformat": 4,
 "nbformat_minor": 5
}
