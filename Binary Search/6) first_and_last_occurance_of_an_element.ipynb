{
 "cells": [
  {
   "cell_type": "raw",
   "id": "aad9e8a5-7b6b-4f18-bacd-49f92a42e3d5",
   "metadata": {},
   "source": [
    "FIRST AND LAST OCCURANCE OF AN ELEMENT\n",
    "Input:\n",
    "nums = [5,7,7,8,8,10]\n",
    "target = 8\n",
    "\n",
    "Output: 3 4 (first occurance of 8 is at index 3 and last occurance is at index 4)\n",
    "\n",
    "Input:\n",
    "nums = [5,7,7,8,8,10]\n",
    "target = 6\n",
    "\n",
    "Output: -1 -1 (returns -1 since the target is not present in the array)"
   ]
  },
  {
   "cell_type": "code",
   "execution_count": 9,
   "id": "5462b509-3d05-4f75-9938-88e7dce62e59",
   "metadata": {},
   "outputs": [],
   "source": [
    "def firstOccurance(nums,target):\n",
    "    low = 0\n",
    "    high = len(nums) - 1\n",
    "    first = -1\n",
    "    while low<=high:\n",
    "        mid = (low+high) // 2\n",
    "        if nums[mid] == target:\n",
    "            first = mid\n",
    "            high = mid - 1\n",
    "        elif nums[mid]<=target:\n",
    "            low = mid + 1\n",
    "        else:\n",
    "            high = mid - 1\n",
    "    return first"
   ]
  },
  {
   "cell_type": "code",
   "execution_count": 11,
   "id": "ca457805-4982-4730-8fa6-57d1e570d39d",
   "metadata": {},
   "outputs": [],
   "source": [
    "def lastOccurance(nums,target):\n",
    "    low = 0\n",
    "    high = len(nums) - 1\n",
    "    last = -1\n",
    "    while low<=high:\n",
    "        mid = (low+high) // 2\n",
    "        if nums[mid] == target:\n",
    "            last = mid\n",
    "            low = mid + 1\n",
    "        elif nums[mid]<target:\n",
    "            low = mid + 1\n",
    "        else:\n",
    "            high = mid - 1\n",
    "    return last"
   ]
  },
  {
   "cell_type": "code",
   "execution_count": 13,
   "id": "2b41c111-2669-410c-88bb-147a9bfa4d92",
   "metadata": {},
   "outputs": [
    {
     "name": "stdout",
     "output_type": "stream",
     "text": [
      "3 4\n"
     ]
    }
   ],
   "source": [
    "f = firstOccurance([5,7,7,8,8,10],8)\n",
    "l = lastOccurance([5,7,7,8,8,10],8)\n",
    "print(f,l)"
   ]
  },
  {
   "cell_type": "code",
   "execution_count": null,
   "id": "a93661d9-46e0-4b0c-9a63-d2a4d8f6e52d",
   "metadata": {},
   "outputs": [],
   "source": []
  }
 ],
 "metadata": {
  "kernelspec": {
   "display_name": "Python 3 (ipykernel)",
   "language": "python",
   "name": "python3"
  },
  "language_info": {
   "codemirror_mode": {
    "name": "ipython",
    "version": 3
   },
   "file_extension": ".py",
   "mimetype": "text/x-python",
   "name": "python",
   "nbconvert_exporter": "python",
   "pygments_lexer": "ipython3",
   "version": "3.11.5"
  }
 },
 "nbformat": 4,
 "nbformat_minor": 5
}
