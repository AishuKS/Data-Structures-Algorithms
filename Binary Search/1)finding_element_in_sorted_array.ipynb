{
 "cells": [
  {
   "cell_type": "raw",
   "id": "24166ee0-2ddf-4f87-aa37-6e00adfa34cf",
   "metadata": {},
   "source": [
    "FINDING ELEMENT IN SORTED ARRAY\n",
    "Input: [1,2,3,4,5,6,7,8,9]\n",
    "target: 6\n",
    "Output: 5 (Returns the position of the element)"
   ]
  },
  {
   "cell_type": "code",
   "execution_count": 1,
   "id": "a7d40c2f-ea47-4684-8b21-fafdb929bd9d",
   "metadata": {},
   "outputs": [],
   "source": [
    "def findingElementInSortedArray(nums,target):\n",
    "    low = 0\n",
    "    high = len(nums) - 1\n",
    "    while low<=high:\n",
    "        mid = (low+high) // 2\n",
    "        if nums[mid] == target:\n",
    "            return mid\n",
    "        elif nums[mid]<target:\n",
    "            low = mid + 1\n",
    "        else:\n",
    "            high = mid - 1\n",
    "    return -1"
   ]
  },
  {
   "cell_type": "code",
   "execution_count": 2,
   "id": "5af65b63-6e4a-441f-bb95-b783de811b26",
   "metadata": {},
   "outputs": [
    {
     "data": {
      "text/plain": [
       "4"
      ]
     },
     "execution_count": 2,
     "metadata": {},
     "output_type": "execute_result"
    }
   ],
   "source": [
    "findingElement([1,2,3,4,5,6],5)"
   ]
  },
  {
   "cell_type": "code",
   "execution_count": null,
   "id": "bb33b70d-6ed8-42e4-b2b2-ea8c31c4c80d",
   "metadata": {},
   "outputs": [],
   "source": []
  }
 ],
 "metadata": {
  "kernelspec": {
   "display_name": "Python 3 (ipykernel)",
   "language": "python",
   "name": "python3"
  },
  "language_info": {
   "codemirror_mode": {
    "name": "ipython",
    "version": 3
   },
   "file_extension": ".py",
   "mimetype": "text/x-python",
   "name": "python",
   "nbconvert_exporter": "python",
   "pygments_lexer": "ipython3",
   "version": "3.11.5"
  }
 },
 "nbformat": 4,
 "nbformat_minor": 5
}
