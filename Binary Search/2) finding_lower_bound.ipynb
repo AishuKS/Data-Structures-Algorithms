{
 "cells": [
  {
   "cell_type": "raw",
   "id": "30de5115-22e7-47ab-bb03-02af1285370e",
   "metadata": {},
   "source": [
    "FINDING LOWER BOUND ELEMENT\n",
    "Input: [1,2,2,3,4,5]\n",
    "Target: 2\n",
    "Output: 1\n",
    "1 is the lowest number next to 2"
   ]
  },
  {
   "cell_type": "code",
   "execution_count": 23,
   "id": "845b4309-6bb2-42a4-96e4-c936902b300e",
   "metadata": {},
   "outputs": [],
   "source": [
    "import sys\n",
    "def findingLowerBound(nums,target):\n",
    "    low = 0\n",
    "    high = len(nums) - 1\n",
    "    ans = len(nums)\n",
    "    while low<=high:\n",
    "        mid = (low+high) // 2\n",
    "        if nums[mid] >= target:\n",
    "            ans = mid\n",
    "            high = mid - 1\n",
    "        else:\n",
    "            low = mid + 1\n",
    "    return ans"
   ]
  },
  {
   "cell_type": "code",
   "execution_count": 24,
   "id": "b4dc1443-fd6b-4716-8841-d5f8760ef0a1",
   "metadata": {},
   "outputs": [
    {
     "data": {
      "text/plain": [
       "1"
      ]
     },
     "execution_count": 24,
     "metadata": {},
     "output_type": "execute_result"
    }
   ],
   "source": [
    "findingLowerBound([1,2,2,3,4,5],2)"
   ]
  }
 ],
 "metadata": {
  "kernelspec": {
   "display_name": "Python 3 (ipykernel)",
   "language": "python",
   "name": "python3"
  },
  "language_info": {
   "codemirror_mode": {
    "name": "ipython",
    "version": 3
   },
   "file_extension": ".py",
   "mimetype": "text/x-python",
   "name": "python",
   "nbconvert_exporter": "python",
   "pygments_lexer": "ipython3",
   "version": "3.11.5"
  }
 },
 "nbformat": 4,
 "nbformat_minor": 5
}
