{
 "cells": [
  {
   "cell_type": "raw",
   "id": "d752e2ab-60f8-43f8-ab05-79704cd538b4",
   "metadata": {},
   "source": [
    "NUMBER OF OCCURANCE OF AN ELEMENT\n",
    "\n",
    "Input:\n",
    "nums = [1,2,3,4,4,4,5,6]\n",
    "target = 4\n",
    "\n",
    "Output: 3"
   ]
  },
  {
   "cell_type": "code",
   "execution_count": 2,
   "id": "9e28429b-69e6-4fdb-92e7-7b01950e79aa",
   "metadata": {},
   "outputs": [],
   "source": [
    "def firstOccurance(nums,target):\n",
    "    low = 0\n",
    "    high = len(nums) - 1\n",
    "    first = -1\n",
    "    while low<=high:\n",
    "        mid = (low+high) // 2\n",
    "        if nums[mid] == target:\n",
    "            first = mid\n",
    "            high = mid - 1\n",
    "        elif nums[mid]<=target:\n",
    "            low = mid + 1\n",
    "        else:\n",
    "            high = mid - 1\n",
    "    return first"
   ]
  },
  {
   "cell_type": "code",
   "execution_count": 3,
   "id": "477b82df-a99d-4a90-9e82-30998b8aed45",
   "metadata": {},
   "outputs": [],
   "source": [
    "def lastOccurance(nums,target):\n",
    "    low = 0\n",
    "    high = len(nums) - 1\n",
    "    last = -1\n",
    "    while low<=high:\n",
    "        mid = (low+high) // 2\n",
    "        if nums[mid] == target:\n",
    "            last = mid\n",
    "            low = mid + 1\n",
    "        elif nums[mid]<target:\n",
    "            low = mid + 1\n",
    "        else:\n",
    "            high = mid - 1\n",
    "    return last"
   ]
  },
  {
   "cell_type": "code",
   "execution_count": 5,
   "id": "6efe2203-c3c9-4a24-9e1e-62352c9ea757",
   "metadata": {},
   "outputs": [
    {
     "name": "stdout",
     "output_type": "stream",
     "text": [
      "3\n"
     ]
    }
   ],
   "source": [
    "first = firstOccurance([1,2,3,4,4,4,5,6],4)\n",
    "last = lastOccurance([1,2,3,4,4,4,5,6],4)\n",
    "\n",
    "if first!=-1 or last!=-1:\n",
    "    print(last - first + 1)\n",
    "else:\n",
    "    print(-1)"
   ]
  },
  {
   "cell_type": "code",
   "execution_count": null,
   "id": "28372d42-2394-42ba-8580-edbea6f01cb7",
   "metadata": {},
   "outputs": [],
   "source": []
  }
 ],
 "metadata": {
  "kernelspec": {
   "display_name": "Python 3 (ipykernel)",
   "language": "python",
   "name": "python3"
  },
  "language_info": {
   "codemirror_mode": {
    "name": "ipython",
    "version": 3
   },
   "file_extension": ".py",
   "mimetype": "text/x-python",
   "name": "python",
   "nbconvert_exporter": "python",
   "pygments_lexer": "ipython3",
   "version": "3.11.5"
  }
 },
 "nbformat": 4,
 "nbformat_minor": 5
}
