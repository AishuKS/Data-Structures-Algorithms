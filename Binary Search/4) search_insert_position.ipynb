{
 "cells": [
  {
   "cell_type": "raw",
   "id": "e4af2ac6-c70d-4404-8557-569556085239",
   "metadata": {},
   "source": [
    "SEARCH INSERT POSITION \n",
    "Input: \n",
    "nums = [1,3,5,6]\n",
    "target = 5\n",
    "Output: 2 (5 already exists so return the index)\n",
    "\n",
    "nums = [1,3,5,6]\n",
    "target = 2\n",
    "Output: 1 (since 2 is not there it should be inserted as index 1)"
   ]
  },
  {
   "cell_type": "code",
   "execution_count": 32,
   "id": "7be70e05-9838-4f71-ab9e-3fc0e25b0aa8",
   "metadata": {},
   "outputs": [],
   "source": [
    "def searchInsert(nums,target):\n",
    "    low = 0\n",
    "    high = len(nums) - 1\n",
    "    value = len(nums)\n",
    "    while low<=high:\n",
    "        mid = (low+high) // 2\n",
    "        if nums[mid] == target:\n",
    "            return mid\n",
    "        elif nums[mid]<=target:\n",
    "            low = mid + 1\n",
    "        else:\n",
    "            value = mid\n",
    "            high = mid - 1\n",
    "    return value\n",
    "    "
   ]
  },
  {
   "cell_type": "code",
   "execution_count": 33,
   "id": "fb28e6b1-5eb0-4d4e-a3a2-f45d13e13ece",
   "metadata": {},
   "outputs": [
    {
     "data": {
      "text/plain": [
       "2"
      ]
     },
     "execution_count": 33,
     "metadata": {},
     "output_type": "execute_result"
    }
   ],
   "source": [
    "searchInsert([1,3,5,6],5)"
   ]
  },
  {
   "cell_type": "code",
   "execution_count": 34,
   "id": "cbca5a13-0043-4acc-ad23-213401690138",
   "metadata": {},
   "outputs": [
    {
     "data": {
      "text/plain": [
       "1"
      ]
     },
     "execution_count": 34,
     "metadata": {},
     "output_type": "execute_result"
    }
   ],
   "source": [
    "searchInsert([1,3,5,6],2)"
   ]
  },
  {
   "cell_type": "code",
   "execution_count": null,
   "id": "9b470a44-2e3d-4c53-b745-294b90417f7c",
   "metadata": {},
   "outputs": [],
   "source": []
  }
 ],
 "metadata": {
  "kernelspec": {
   "display_name": "Python 3 (ipykernel)",
   "language": "python",
   "name": "python3"
  },
  "language_info": {
   "codemirror_mode": {
    "name": "ipython",
    "version": 3
   },
   "file_extension": ".py",
   "mimetype": "text/x-python",
   "name": "python",
   "nbconvert_exporter": "python",
   "pygments_lexer": "ipython3",
   "version": "3.11.5"
  }
 },
 "nbformat": 4,
 "nbformat_minor": 5
}
