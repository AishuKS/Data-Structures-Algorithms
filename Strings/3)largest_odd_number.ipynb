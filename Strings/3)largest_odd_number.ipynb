{
 "cells": [
  {
   "cell_type": "raw",
   "id": "bf209267-3d35-473c-9b58-96281c490fc5",
   "metadata": {},
   "source": [
    "LARGEST ODD NUMBER\n",
    "Input: num = \"1250\"\n",
    "Output: \"125\"\n",
    "\n",
    "Input: num = \"2468\"\n",
    "Output: \"\""
   ]
  },
  {
   "cell_type": "code",
   "execution_count": 4,
   "id": "d8a71d06-56f6-42c7-a74b-f8d71e195381",
   "metadata": {},
   "outputs": [],
   "source": [
    "def largestOddNumberInString(num):\n",
    "    i = len(num) - 1\n",
    "    while i >= 0:\n",
    "        if int(num[i])%2 != 0:\n",
    "            return num[:i+1]\n",
    "        i = i - 1\n",
    "    return \"\""
   ]
  },
  {
   "cell_type": "code",
   "execution_count": 5,
   "id": "9736403d-771f-464d-92d5-3483c9c18dfc",
   "metadata": {},
   "outputs": [
    {
     "data": {
      "text/plain": [
       "'125'"
      ]
     },
     "execution_count": 5,
     "metadata": {},
     "output_type": "execute_result"
    }
   ],
   "source": [
    "largestOddNumberInString(\"1250\")"
   ]
  },
  {
   "cell_type": "code",
   "execution_count": 6,
   "id": "17cdd107-f745-47c7-af96-f759574b4a1c",
   "metadata": {},
   "outputs": [
    {
     "data": {
      "text/plain": [
       "''"
      ]
     },
     "execution_count": 6,
     "metadata": {},
     "output_type": "execute_result"
    }
   ],
   "source": [
    "largestOddNumberInString(\"2468\")"
   ]
  },
  {
   "cell_type": "code",
   "execution_count": null,
   "id": "971ed61d-1c90-478b-933f-8cdda9066a91",
   "metadata": {},
   "outputs": [],
   "source": []
  }
 ],
 "metadata": {
  "kernelspec": {
   "display_name": "Python 3 (ipykernel)",
   "language": "python",
   "name": "python3"
  },
  "language_info": {
   "codemirror_mode": {
    "name": "ipython",
    "version": 3
   },
   "file_extension": ".py",
   "mimetype": "text/x-python",
   "name": "python",
   "nbconvert_exporter": "python",
   "pygments_lexer": "ipython3",
   "version": "3.11.5"
  }
 },
 "nbformat": 4,
 "nbformat_minor": 5
}
