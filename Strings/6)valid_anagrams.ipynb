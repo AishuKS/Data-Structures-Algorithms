{
 "cells": [
  {
   "cell_type": "raw",
   "id": "b8c15b63-401a-47bc-93c8-d0ed18d5ce32",
   "metadata": {},
   "source": [
    "VALID ANAGRAMS\n",
    "\n",
    "Input: []"
   ]
  },
  {
   "cell_type": "code",
   "execution_count": 5,
   "id": "9f85b485-7fff-4be3-8c84-4070c310368e",
   "metadata": {},
   "outputs": [],
   "source": [
    "from collections import defaultdict\n",
    "def validAnagrams(a,b):\n",
    "    hashMap = defaultdict(int)\n",
    "    for i in a:\n",
    "        hashMap[i] = hashMap[i] + 1\n",
    "\n",
    "    for i in b:\n",
    "        if i not in hashMap or hashMap[i]==0:\n",
    "            return False\n",
    "    return True"
   ]
  },
  {
   "cell_type": "code",
   "execution_count": 6,
   "id": "af60f992-55c1-432f-8507-e2dfd38ffc69",
   "metadata": {},
   "outputs": [
    {
     "data": {
      "text/plain": [
       "True"
      ]
     },
     "execution_count": 6,
     "metadata": {},
     "output_type": "execute_result"
    }
   ],
   "source": [
    "validAnagrams(\"finder\", \"friend\")"
   ]
  },
  {
   "cell_type": "code",
   "execution_count": null,
   "id": "b0295a66-cf1a-43e8-a5bc-694761029685",
   "metadata": {},
   "outputs": [],
   "source": [
    "validAnagrams(\"finder\", \"friend\")"
   ]
  }
 ],
 "metadata": {
  "kernelspec": {
   "display_name": "Python 3 (ipykernel)",
   "language": "python",
   "name": "python3"
  },
  "language_info": {
   "codemirror_mode": {
    "name": "ipython",
    "version": 3
   },
   "file_extension": ".py",
   "mimetype": "text/x-python",
   "name": "python",
   "nbconvert_exporter": "python",
   "pygments_lexer": "ipython3",
   "version": "3.11.5"
  }
 },
 "nbformat": 4,
 "nbformat_minor": 5
}
