{
 "cells": [
  {
   "cell_type": "raw",
   "id": "930fb154-08ff-4926-b304-f02b7e342c51",
   "metadata": {},
   "source": [
    "ROMAN TO INTEGER\n",
    "\n",
    "Input: 'II'\n",
    "Output: 2\n",
    "\n",
    "Input: \"MCXCIV\"\n",
    "Output: 1194"
   ]
  },
  {
   "cell_type": "code",
   "execution_count": 1,
   "id": "71ac2521-dd4f-4335-a5ba-22dc32b1e72e",
   "metadata": {},
   "outputs": [],
   "source": [
    "def romanNumberToInteger(s):\n",
    "    roman = {'I': 1,'V': 5,'X': 10,'L': 50,'C': 100,'D': 500,'M': 1000}\n",
    "\n",
    "    result = 0\n",
    "    for i in range(len(s)):\n",
    "        if i < len(s) - 1 and roman[s[i]] < roman[s[i + 1]]:\n",
    "            result -= roman[s[i]]\n",
    "        else:\n",
    "            result += roman[s[i]]\n",
    "    return result"
   ]
  },
  {
   "cell_type": "code",
   "execution_count": 2,
   "id": "8394786f-3846-48ca-ad78-519a5eb973c4",
   "metadata": {},
   "outputs": [
    {
     "data": {
      "text/plain": [
       "2"
      ]
     },
     "execution_count": 2,
     "metadata": {},
     "output_type": "execute_result"
    }
   ],
   "source": [
    "romanNumberToInteger('II')"
   ]
  },
  {
   "cell_type": "code",
   "execution_count": 3,
   "id": "b06a941d-8335-4f2c-a20a-643d95d081fd",
   "metadata": {},
   "outputs": [
    {
     "data": {
      "text/plain": [
       "1194"
      ]
     },
     "execution_count": 3,
     "metadata": {},
     "output_type": "execute_result"
    }
   ],
   "source": [
    "romanNumberToInteger('MCXCIV')"
   ]
  },
  {
   "cell_type": "code",
   "execution_count": null,
   "id": "ede9e4d4-326d-445d-84e3-2ed13c3616a2",
   "metadata": {},
   "outputs": [],
   "source": []
  }
 ],
 "metadata": {
  "kernelspec": {
   "display_name": "Python 3 (ipykernel)",
   "language": "python",
   "name": "python3"
  },
  "language_info": {
   "codemirror_mode": {
    "name": "ipython",
    "version": 3
   },
   "file_extension": ".py",
   "mimetype": "text/x-python",
   "name": "python",
   "nbconvert_exporter": "python",
   "pygments_lexer": "ipython3",
   "version": "3.11.5"
  }
 },
 "nbformat": 4,
 "nbformat_minor": 5
}
