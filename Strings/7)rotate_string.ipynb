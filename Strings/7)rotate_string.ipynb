{
 "cells": [
  {
   "cell_type": "raw",
   "id": "05985896-7e17-457b-8ce9-fe6f5ddc6808",
   "metadata": {},
   "source": [
    "ROTATE STRING\n",
    "Input: a = 'vwxyz' b = 'xyzvw'\n",
    "Output: True\n",
    "\n",
    "Input: a = 'vwxyz' b = 'xyzwv'\n",
    "Output: False"
   ]
  },
  {
   "cell_type": "code",
   "execution_count": 2,
   "id": "22b11f80-8755-4d9f-b5c3-d78588582ea7",
   "metadata": {},
   "outputs": [],
   "source": [
    "def rotateString(a,b):\n",
    "    for i in range(len(a)):\n",
    "        if b[0] == a[i]:\n",
    "            if b == a[i:] + a[:i]:\n",
    "                return True\n",
    "    return False"
   ]
  },
  {
   "cell_type": "code",
   "execution_count": 3,
   "id": "49ab7b5b-4ef6-40b0-8778-b4d6ff99ab51",
   "metadata": {},
   "outputs": [
    {
     "data": {
      "text/plain": [
       "True"
      ]
     },
     "execution_count": 3,
     "metadata": {},
     "output_type": "execute_result"
    }
   ],
   "source": [
    "rotateString('vwxyz', 'xyzvw')"
   ]
  },
  {
   "cell_type": "code",
   "execution_count": 4,
   "id": "bc32603c-1dd7-44a6-bee1-516dee538a78",
   "metadata": {},
   "outputs": [
    {
     "data": {
      "text/plain": [
       "False"
      ]
     },
     "execution_count": 4,
     "metadata": {},
     "output_type": "execute_result"
    }
   ],
   "source": [
    "rotateString('vwxyz', 'xyzwv')"
   ]
  },
  {
   "cell_type": "code",
   "execution_count": null,
   "id": "1573157a-5a88-4c24-aa57-68f4d84e409c",
   "metadata": {},
   "outputs": [],
   "source": []
  }
 ],
 "metadata": {
  "kernelspec": {
   "display_name": "Python 3 (ipykernel)",
   "language": "python",
   "name": "python3"
  },
  "language_info": {
   "codemirror_mode": {
    "name": "ipython",
    "version": 3
   },
   "file_extension": ".py",
   "mimetype": "text/x-python",
   "name": "python",
   "nbconvert_exporter": "python",
   "pygments_lexer": "ipython3",
   "version": "3.11.5"
  }
 },
 "nbformat": 4,
 "nbformat_minor": 5
}
