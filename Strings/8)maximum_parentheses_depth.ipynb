{
 "cells": [
  {
   "cell_type": "raw",
   "id": "c1c727a5-6d75-42c4-afdb-f99338ec919e",
   "metadata": {},
   "source": [
    "MAXIMUM PARENTHESES DEPTH\n",
    "\n",
    "Input: string = '(()(()))'\n",
    "Output: 3\n",
    "\n",
    "Input: string = '(1*2/(3+(4*8)+10))'\n",
    "Output: 3"
   ]
  },
  {
   "cell_type": "code",
   "execution_count": 1,
   "id": "5be9aedc-2314-41f5-afa8-f47afa3c7b34",
   "metadata": {},
   "outputs": [],
   "source": [
    "def maxDepth(string):\n",
    "    count = 0\n",
    "    depth = 0\n",
    "    for i in string:\n",
    "        if i == '(':\n",
    "            count = count + 1\n",
    "            depth = max(count, depth)\n",
    "        if i == ')':\n",
    "            count = count - 1\n",
    "    return depth"
   ]
  },
  {
   "cell_type": "code",
   "execution_count": 2,
   "id": "1c65b114-2d1a-4999-aae4-7bc9aac90b73",
   "metadata": {},
   "outputs": [
    {
     "data": {
      "text/plain": [
       "3"
      ]
     },
     "execution_count": 2,
     "metadata": {},
     "output_type": "execute_result"
    }
   ],
   "source": [
    "maxDepth('(()(()))')"
   ]
  },
  {
   "cell_type": "code",
   "execution_count": 3,
   "id": "7db03c06-e711-4a88-9e99-a95d53356324",
   "metadata": {},
   "outputs": [
    {
     "data": {
      "text/plain": [
       "3"
      ]
     },
     "execution_count": 3,
     "metadata": {},
     "output_type": "execute_result"
    }
   ],
   "source": [
    "maxDepth('(1*2/(3+(4*8)+10))')"
   ]
  }
 ],
 "metadata": {
  "kernelspec": {
   "display_name": "Python 3 (ipykernel)",
   "language": "python",
   "name": "python3"
  },
  "language_info": {
   "codemirror_mode": {
    "name": "ipython",
    "version": 3
   },
   "file_extension": ".py",
   "mimetype": "text/x-python",
   "name": "python",
   "nbconvert_exporter": "python",
   "pygments_lexer": "ipython3",
   "version": "3.11.5"
  }
 },
 "nbformat": 4,
 "nbformat_minor": 5
}
