{
 "cells": [
  {
   "cell_type": "raw",
   "id": "a2b136e2-1c63-45de-aaaa-42f9ae5aa2c2",
   "metadata": {},
   "source": [
    "REVERSE WORDS IN STRING\n",
    "Input: string = \"the code works fine\"\n",
    "Output: \"fine works code the\"\n",
    "\n",
    "Input: s = \" data structures and algorithms \"\n",
    "Output: \"algorithms and structures data\"\n",
    "it should eliminate leading and trailing zeroes"
   ]
  },
  {
   "cell_type": "code",
   "execution_count": 9,
   "id": "0d2632ee-5148-4df3-961e-47ed0956d5d8",
   "metadata": {},
   "outputs": [],
   "source": [
    "def reverseWords(s):\n",
    "    word = ''\n",
    "    string = ''\n",
    "    for i in s:\n",
    "        if i != ' ':\n",
    "            word = word + i\n",
    "        elif i == ' ' and len(word) > 0:\n",
    "            string = ' ' + word + string\n",
    "            word = ''\n",
    "    string = word + string\n",
    "    return string.strip()"
   ]
  },
  {
   "cell_type": "code",
   "execution_count": 11,
   "id": "da217f60-5c84-4768-9349-e25a705abb7d",
   "metadata": {},
   "outputs": [
    {
     "data": {
      "text/plain": [
       "'fine works code the'"
      ]
     },
     "execution_count": 11,
     "metadata": {},
     "output_type": "execute_result"
    }
   ],
   "source": [
    "reverseWords(\"the code works fine\")"
   ]
  },
  {
   "cell_type": "code",
   "execution_count": null,
   "id": "84ddbc30-7ec7-438f-88bd-d897d72f6744",
   "metadata": {},
   "outputs": [],
   "source": [
    "reverseWords"
   ]
  }
 ],
 "metadata": {
  "kernelspec": {
   "display_name": "Python 3 (ipykernel)",
   "language": "python",
   "name": "python3"
  },
  "language_info": {
   "codemirror_mode": {
    "name": "ipython",
    "version": 3
   },
   "file_extension": ".py",
   "mimetype": "text/x-python",
   "name": "python",
   "nbconvert_exporter": "python",
   "pygments_lexer": "ipython3",
   "version": "3.11.5"
  }
 },
 "nbformat": 4,
 "nbformat_minor": 5
}
