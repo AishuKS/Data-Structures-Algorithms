{
 "cells": [
  {
   "cell_type": "raw",
   "id": "5d09dd48-35c6-4b4a-a448-31f0f0f6dad7",
   "metadata": {},
   "source": [
    "LONGEST PALINDROMIC SUBSTRING\n",
    "\n",
    "Input s = \"babac\"\n",
    "Output = \"bab\"\n",
    "\n",
    "Input s = \"cabac\"\n",
    "Output = \"cabac\""
   ]
  },
  {
   "cell_type": "code",
   "execution_count": 1,
   "id": "dfe69e44-3243-4d80-ba7d-a5df2327b0da",
   "metadata": {},
   "outputs": [],
   "source": [
    "def longestPalindromicSubstring(s):\n",
    "    def expandAroundCenter(left, right):\n",
    "        while left >= 0 and right < len(s) and s[left] == s[right]:\n",
    "            left -= 1\n",
    "            right += 1\n",
    "        return s[left + 1:right]\n",
    "\n",
    "    longest = \"\"\n",
    "    for i in range(len(s)):\n",
    "        # Odd length palindrome\n",
    "        palindrome1 = expandAroundCenter(i, i)\n",
    "        # Even length palindrome\n",
    "        palindrome2 = expandAroundCenter(i, i + 1)\n",
    "\n",
    "        if len(palindrome1) > len(longest):\n",
    "            longest = palindrome1\n",
    "        if len(palindrome2) > len(longest):\n",
    "            longest = palindrome2\n",
    "\n",
    "    return longest"
   ]
  },
  {
   "cell_type": "code",
   "execution_count": 2,
   "id": "f387d301-89d2-4c78-b11a-85ae5d202a9e",
   "metadata": {},
   "outputs": [
    {
     "data": {
      "text/plain": [
       "'bab'"
      ]
     },
     "execution_count": 2,
     "metadata": {},
     "output_type": "execute_result"
    }
   ],
   "source": [
    "longestPalindromicSubstring(\"babac\")"
   ]
  },
  {
   "cell_type": "code",
   "execution_count": 3,
   "id": "fc23e498-f93e-4052-884b-b6f09d7e96bd",
   "metadata": {},
   "outputs": [
    {
     "data": {
      "text/plain": [
       "'cabac'"
      ]
     },
     "execution_count": 3,
     "metadata": {},
     "output_type": "execute_result"
    }
   ],
   "source": [
    "longestPalindromicSubstring(\"cabac\")"
   ]
  }
 ],
 "metadata": {
  "kernelspec": {
   "display_name": "Python 3 (ipykernel)",
   "language": "python",
   "name": "python3"
  },
  "language_info": {
   "codemirror_mode": {
    "name": "ipython",
    "version": 3
   },
   "file_extension": ".py",
   "mimetype": "text/x-python",
   "name": "python",
   "nbconvert_exporter": "python",
   "pygments_lexer": "ipython3",
   "version": "3.11.5"
  }
 },
 "nbformat": 4,
 "nbformat_minor": 5
}
