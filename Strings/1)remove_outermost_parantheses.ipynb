{
 "cells": [
  {
   "cell_type": "raw",
   "id": "d5f3b32e-40f6-40bf-b06f-af7c8ab5a039",
   "metadata": {},
   "source": [
    "REMOVE OUTERMOST PARANTHESES\n",
    "Input: string = \"(()()())\"\n",
    "Output: \"()()()\"\n",
    "\n",
    "Input string = \"(()(()))\"\n",
    "Output: \"()(())\""
   ]
  },
  {
   "cell_type": "code",
   "execution_count": 1,
   "id": "66c833ca-9b92-49c7-8077-0813a72c34ef",
   "metadata": {},
   "outputs": [],
   "source": [
    "def removeParantheses(string):\n",
    "    answer = ''\n",
    "    count = 0\n",
    "    for i in string:\n",
    "        if i == '(':\n",
    "            count = count + 1\n",
    "            if count > 1:\n",
    "                answer = answer + i\n",
    "        else:\n",
    "            count = count - 1\n",
    "            if count > 0:\n",
    "                answer = answer + i\n",
    "    return answer"
   ]
  },
  {
   "cell_type": "code",
   "execution_count": 2,
   "id": "0d27a0d7-ac9e-436b-91c4-8101b05aa510",
   "metadata": {},
   "outputs": [
    {
     "data": {
      "text/plain": [
       "'()()()'"
      ]
     },
     "execution_count": 2,
     "metadata": {},
     "output_type": "execute_result"
    }
   ],
   "source": [
    "removeParantheses('(()()())')"
   ]
  },
  {
   "cell_type": "code",
   "execution_count": 3,
   "id": "b242c08f-c74d-4e8d-baa6-7ef40d18e4c6",
   "metadata": {},
   "outputs": [
    {
     "data": {
      "text/plain": [
       "'()(())'"
      ]
     },
     "execution_count": 3,
     "metadata": {},
     "output_type": "execute_result"
    }
   ],
   "source": [
    "removeParantheses('(()(()))')"
   ]
  },
  {
   "cell_type": "code",
   "execution_count": null,
   "id": "9c727065-1a82-4b2b-9bbf-3b73992e1c46",
   "metadata": {},
   "outputs": [],
   "source": []
  }
 ],
 "metadata": {
  "kernelspec": {
   "display_name": "Python 3 (ipykernel)",
   "language": "python",
   "name": "python3"
  },
  "language_info": {
   "codemirror_mode": {
    "name": "ipython",
    "version": 3
   },
   "file_extension": ".py",
   "mimetype": "text/x-python",
   "name": "python",
   "nbconvert_exporter": "python",
   "pygments_lexer": "ipython3",
   "version": "3.11.5"
  }
 },
 "nbformat": 4,
 "nbformat_minor": 5
}
