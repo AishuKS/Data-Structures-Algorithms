{
 "cells": [
  {
   "cell_type": "raw",
   "id": "5356594e-fae4-40f8-ab66-08c5337e9c52",
   "metadata": {},
   "source": [
    "SORT CHARACTERS BY FREQUENCY\n",
    "\n",
    "Input: string = \"apple\"\n",
    "Output: \"ppale\"\n",
    "also \"ppela\" or \"pplae\" all are correct"
   ]
  },
  {
   "cell_type": "code",
   "execution_count": 14,
   "id": "75f77498-aa05-4854-a969-2e74f6df690c",
   "metadata": {},
   "outputs": [],
   "source": [
    "from collections import defaultdict\n",
    "def sortByFrequency(string):\n",
    "    answer = ''\n",
    "    hashMap = defaultdict(int)\n",
    "    for i in string:\n",
    "        hashMap[i] = hashMap[i] + 1\n",
    "\n",
    "    sortedHashMap = sorted(hashMap.items(), key=lambda x: x[1], reverse=True)\n",
    "\n",
    "    for key, value in sortedHashMap:\n",
    "        answer = answer + (key * value)\n",
    "    return answer"
   ]
  },
  {
   "cell_type": "code",
   "execution_count": 15,
   "id": "6729caee-9c0a-4394-aa41-9fbe272ee415",
   "metadata": {},
   "outputs": [
    {
     "data": {
      "text/plain": [
       "'ppale'"
      ]
     },
     "execution_count": 15,
     "metadata": {},
     "output_type": "execute_result"
    }
   ],
   "source": [
    "sortByFrequency('apple')"
   ]
  }
 ],
 "metadata": {
  "kernelspec": {
   "display_name": "Python 3 (ipykernel)",
   "language": "python",
   "name": "python3"
  },
  "language_info": {
   "codemirror_mode": {
    "name": "ipython",
    "version": 3
   },
   "file_extension": ".py",
   "mimetype": "text/x-python",
   "name": "python",
   "nbconvert_exporter": "python",
   "pygments_lexer": "ipython3",
   "version": "3.11.5"
  }
 },
 "nbformat": 4,
 "nbformat_minor": 5
}
