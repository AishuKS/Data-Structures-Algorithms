{
 "cells": [
  {
   "cell_type": "raw",
   "id": "2db74271-4b04-4164-b4ab-e955470181a1",
   "metadata": {},
   "source": [
    "LONGEST COMMON PREFIX\n",
    "Input: [\"banana\",\"bagel\",\"bakery\"]\n",
    "Output: \"ba\"\n",
    "\n",
    "Input: [\"book\", \"happy\", \"spoon\"]\n",
    "Output: \"\""
   ]
  },
  {
   "cell_type": "code",
   "execution_count": 9,
   "id": "ad650244-7ed7-4273-9a2d-9c8a0dfbaec6",
   "metadata": {},
   "outputs": [],
   "source": [
    "def longestPrefix(string):\n",
    "    word = string[0]\n",
    "    answer = ''\n",
    "    for i in range(len(word)):\n",
    "        for s in string:\n",
    "            if i == len(s) or word[i]!=s[i]:\n",
    "                return answer\n",
    "        answer = answer + word[i]\n",
    "    return answer"
   ]
  },
  {
   "cell_type": "code",
   "execution_count": 10,
   "id": "dfab5387-1e32-4421-ac23-5c259cec4332",
   "metadata": {},
   "outputs": [
    {
     "data": {
      "text/plain": [
       "'fl'"
      ]
     },
     "execution_count": 10,
     "metadata": {},
     "output_type": "execute_result"
    }
   ],
   "source": [
    "longestPrefix([\"banana\",\"bagel\",\"bakery\"])"
   ]
  },
  {
   "cell_type": "code",
   "execution_count": 11,
   "id": "95d6f1f1-4c70-4c58-a057-a811fed4e00b",
   "metadata": {},
   "outputs": [
    {
     "data": {
      "text/plain": [
       "'g'"
      ]
     },
     "execution_count": 11,
     "metadata": {},
     "output_type": "execute_result"
    }
   ],
   "source": [
    "longestPrefix([\"girl\",\"giant\",\"goat\"])"
   ]
  },
  {
   "cell_type": "code",
   "execution_count": null,
   "id": "189d8a39-3c1b-4904-9b58-11915302b05f",
   "metadata": {},
   "outputs": [],
   "source": []
  }
 ],
 "metadata": {
  "kernelspec": {
   "display_name": "Python 3 (ipykernel)",
   "language": "python",
   "name": "python3"
  },
  "language_info": {
   "codemirror_mode": {
    "name": "ipython",
    "version": 3
   },
   "file_extension": ".py",
   "mimetype": "text/x-python",
   "name": "python",
   "nbconvert_exporter": "python",
   "pygments_lexer": "ipython3",
   "version": "3.11.5"
  }
 },
 "nbformat": 4,
 "nbformat_minor": 5
}
