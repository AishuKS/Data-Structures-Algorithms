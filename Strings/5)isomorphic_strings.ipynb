{
 "cells": [
  {
   "cell_type": "raw",
   "id": "eccf37e8-3bd9-40db-9998-45ef7e30df16",
   "metadata": {},
   "source": [
    "ISOMORPHIC STRINGS\n",
    "Input: [\"book\",\"seed\"]\n",
    "Output: True\n",
    "\n",
    "Input: [\"pen\",\"help\"]\n",
    "Output: False"
   ]
  },
  {
   "cell_type": "code",
   "execution_count": 1,
   "id": "60c1505e-7dc6-4472-9acb-516f85cc7b89",
   "metadata": {},
   "outputs": [],
   "source": [
    "def isomorphicStrings(a,b):\n",
    "    hashA = {}\n",
    "    hashB = {}\n",
    "    if len(a) != len(b):\n",
    "        return False\n",
    "    for i in range(len(a)):\n",
    "        a1 = a[i]\n",
    "        b1 = b[i]\n",
    "        if a1 in hashA and hashA[a1]!=b1 or b1 in hashB and hashB[b1]!=a1:\n",
    "            return False\n",
    "        hashA[a1] = b1\n",
    "        hashB[b1] = a1\n",
    "    return True"
   ]
  },
  {
   "cell_type": "code",
   "execution_count": 3,
   "id": "3ed63e49-f660-4a2d-9c9e-d864c06de2e0",
   "metadata": {},
   "outputs": [
    {
     "data": {
      "text/plain": [
       "True"
      ]
     },
     "execution_count": 3,
     "metadata": {},
     "output_type": "execute_result"
    }
   ],
   "source": [
    "isomorphicStrings(\"book\",\"seed\")"
   ]
  },
  {
   "cell_type": "code",
   "execution_count": 4,
   "id": "68618e61-4eb0-4141-833b-9d5616d68ddd",
   "metadata": {},
   "outputs": [
    {
     "data": {
      "text/plain": [
       "False"
      ]
     },
     "execution_count": 4,
     "metadata": {},
     "output_type": "execute_result"
    }
   ],
   "source": [
    "isomorphicStrings(\"pen\",\"help\")"
   ]
  },
  {
   "cell_type": "code",
   "execution_count": null,
   "id": "05136cba-c742-45bc-a444-bd9788a74859",
   "metadata": {},
   "outputs": [],
   "source": []
  }
 ],
 "metadata": {
  "kernelspec": {
   "display_name": "Python 3 (ipykernel)",
   "language": "python",
   "name": "python3"
  },
  "language_info": {
   "codemirror_mode": {
    "name": "ipython",
    "version": 3
   },
   "file_extension": ".py",
   "mimetype": "text/x-python",
   "name": "python",
   "nbconvert_exporter": "python",
   "pygments_lexer": "ipython3",
   "version": "3.11.5"
  }
 },
 "nbformat": 4,
 "nbformat_minor": 5
}
