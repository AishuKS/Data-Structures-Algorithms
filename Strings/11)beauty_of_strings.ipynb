{
 "cells": [
  {
   "cell_type": "raw",
   "id": "642a72ab-0480-44d1-85f0-282f2aef0a32",
   "metadata": {},
   "source": [
    "BEAUTY OF STRINGS\n",
    "\n",
    "The beauty of a string is the difference in frequencies between the most frequent and least frequent characters.\n",
    "\n",
    "Input: s = \"abaccd\"\n",
    "Output: 9\n",
    "\n",
    "Input: s = \"aaaa\"\n",
    "Output: 0"
   ]
  },
  {
   "cell_type": "code",
   "execution_count": 5,
   "id": "1c87c6a6-1cfa-47b0-bf86-6ec200f24da6",
   "metadata": {},
   "outputs": [],
   "source": [
    "from collections import defaultdict\n",
    "def beautyOfString(s):\n",
    "    ans = 0\n",
    "    for i in range(len(s)):\n",
    "        freq = defaultdict(int)\n",
    "        maxF = 0\n",
    "        for j in range(i,len(s)):\n",
    "            freq[s[j]] = freq[s[j]] + 1\n",
    "        \n",
    "            maxF = max(maxF, freq[s[j]])\n",
    "            minF = min(freq.values())\n",
    "            ans = ans+(maxF-minF)\n",
    "    return ans"
   ]
  },
  {
   "cell_type": "code",
   "execution_count": 6,
   "id": "44651e7f-1dd1-4bcc-8328-aaf750418002",
   "metadata": {},
   "outputs": [
    {
     "data": {
      "text/plain": [
       "9"
      ]
     },
     "execution_count": 6,
     "metadata": {},
     "output_type": "execute_result"
    }
   ],
   "source": [
    "beautyOfString(\"abaccd\")"
   ]
  },
  {
   "cell_type": "code",
   "execution_count": 7,
   "id": "ef45824d-2f40-4d41-97d5-75c2f3465097",
   "metadata": {},
   "outputs": [
    {
     "data": {
      "text/plain": [
       "0"
      ]
     },
     "execution_count": 7,
     "metadata": {},
     "output_type": "execute_result"
    }
   ],
   "source": [
    "beautyOfString(\"aaaa\")"
   ]
  }
 ],
 "metadata": {
  "kernelspec": {
   "display_name": "Python 3 (ipykernel)",
   "language": "python",
   "name": "python3"
  },
  "language_info": {
   "codemirror_mode": {
    "name": "ipython",
    "version": 3
   },
   "file_extension": ".py",
   "mimetype": "text/x-python",
   "name": "python",
   "nbconvert_exporter": "python",
   "pygments_lexer": "ipython3",
   "version": "3.11.5"
  }
 },
 "nbformat": 4,
 "nbformat_minor": 5
}
